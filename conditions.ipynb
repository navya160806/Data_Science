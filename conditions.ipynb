{
 "cells": [
  {
   "cell_type": "markdown",
   "id": "de2313a3",
   "metadata": {},
   "source": [
    "# conditional statements"
   ]
  },
  {
   "cell_type": "markdown",
   "id": "a3c8e3a9",
   "metadata": {},
   "source": [
    "## if"
   ]
  },
  {
   "cell_type": "code",
   "execution_count": 5,
   "id": "4bba519d",
   "metadata": {},
   "outputs": [
    {
     "name": "stdout",
     "output_type": "stream",
     "text": [
      "welcome\n",
      "hii\n",
      "hii 2\n"
     ]
    }
   ],
   "source": [
    "a=5\n",
    "if a >4:\n",
    "    print(\"welcome\")\n",
    "    print(\"hii\")\n",
    "    #this is block system as all statments present in the code will be printed \n",
    "if a>10:\n",
    "    print(\"welocome2\")\n",
    "\n",
    "print(\"hii 2\")\n",
    "#outside of loop so it will printed no matter if we the condition is true or false \n",
    "#outside of blocking structure"
   ]
  },
  {
   "cell_type": "code",
   "execution_count": 6,
   "id": "b8118bee",
   "metadata": {},
   "outputs": [
    {
     "name": "stdout",
     "output_type": "stream",
     "text": [
      "A\n",
      "B\n"
     ]
    }
   ],
   "source": [
    "marks=85\n",
    "if(marks>=90):\n",
    "    print(\"A+\")\n",
    "if(marks>=85):\n",
    "    print(\"A\")\n",
    "if(marks>=60):\n",
    "    print(\"B\")\n",
    "if (marks<60):\n",
    "    print(\"fail\")"
   ]
  },
  {
   "cell_type": "markdown",
   "id": "c0619ef9",
   "metadata": {},
   "source": [
    "## if-elif-else"
   ]
  },
  {
   "cell_type": "code",
   "execution_count": 8,
   "id": "1a6f9fb2",
   "metadata": {},
   "outputs": [
    {
     "name": "stdout",
     "output_type": "stream",
     "text": [
      "A\n"
     ]
    }
   ],
   "source": [
    "marks=85\n",
    "if(marks>=90):\n",
    "    print(\"A+\")\n",
    "elif(marks>=85):\n",
    "    print(\"A\")\n",
    "elif(marks>=60):\n",
    "    print(\"B\")\n",
    "elif (marks<60):\n",
    "    print(\"fail\")\n",
    "else :\n",
    "    print(\"invalid marks\")"
   ]
  },
  {
   "cell_type": "markdown",
   "id": "04d24cd9",
   "metadata": {},
   "source": [
    "## if-else"
   ]
  },
  {
   "cell_type": "code",
   "execution_count": 9,
   "id": "849c9744",
   "metadata": {},
   "outputs": [
    {
     "name": "stdout",
     "output_type": "stream",
     "text": [
      "you are eligible to vote\n"
     ]
    }
   ],
   "source": [
    "age=20\n",
    "if age >=18:\n",
    "    print(\"you are eligible to vote\")\n",
    "else :\n",
    "    print(\"not eligible\")"
   ]
  },
  {
   "cell_type": "markdown",
   "id": "f93bf33b",
   "metadata": {},
   "source": [
    "## Nested if-else"
   ]
  },
  {
   "cell_type": "code",
   "execution_count": 4,
   "id": "1665012a",
   "metadata": {},
   "outputs": [
    {
     "name": "stdout",
     "output_type": "stream",
     "text": [
      "registration successful\n"
     ]
    }
   ],
   "source": [
    "username=input(\"enter your username: \")\n",
    "email=input(\"enter your email: \")\n",
    "password=input(\"enter your password: \")\n",
    "cpass=input(\"confirm your password: \")\n",
    "if len(username)>=8 and len(username)<=20:\n",
    "    if '@' in email and len(email)>=8:\n",
    "        if  len(password)>=10 and len(password)<=20:\n",
    "            if password==cpass:\n",
    "                print(\"registration successful\")\n",
    "            else:\n",
    "                print(\"password mismatch😢\")\n",
    "        else:\n",
    "            print(\"password must be between 10 and 20 charachter😢\")\n",
    "    else:\n",
    "        print(\"invalid email😑\")\n",
    "else:\n",
    "    print(\"username must be between 8 and 20 charchters😭\")"
   ]
  },
  {
   "cell_type": "markdown",
   "id": "b862c8a2",
   "metadata": {},
   "source": []
  }
 ],
 "metadata": {
  "kernelspec": {
   "display_name": "base",
   "language": "python",
   "name": "python3"
  },
  "language_info": {
   "codemirror_mode": {
    "name": "ipython",
    "version": 3
   },
   "file_extension": ".py",
   "mimetype": "text/x-python",
   "name": "python",
   "nbconvert_exporter": "python",
   "pygments_lexer": "ipython3",
   "version": "3.13.2"
  }
 },
 "nbformat": 4,
 "nbformat_minor": 5
}
