{
 "cells": [
  {
   "cell_type": "markdown",
   "id": "9371f4e3",
   "metadata": {},
   "source": [
    "# ASSIGNMENT 1"
   ]
  },
  {
   "cell_type": "markdown",
   "id": "3c667fb9",
   "metadata": {},
   "source": [
    "### Q1)check weather two sides of triangle are equal or not "
   ]
  },
  {
   "cell_type": "code",
   "execution_count": 5,
   "id": "a4b03230",
   "metadata": {},
   "outputs": [
    {
     "name": "stdout",
     "output_type": "stream",
     "text": [
      "sides are \n",
      "5 4 8\n",
      "all sides are different\n"
     ]
    }
   ],
   "source": [
    "a=int(input(\"enter side 1\"))\n",
    "b=int(input(\"enter side 2\"))\n",
    "c=int(input(\"enter side 3\"))\n",
    "print(\"sides are \")\n",
    "print(a,b,c)\n",
    "if(a==b):\n",
    "    print(\"2 sides are same\")\n",
    "elif(b==c):\n",
    "    print(\"2 sides are equal\")\n",
    "elif(c==a):\n",
    "    print(\"2 sides are equal\")\n",
    "else:\n",
    "    print(\"all sides are different\")"
   ]
  },
  {
   "cell_type": "markdown",
   "id": "5ff1c1a3",
   "metadata": {},
   "source": [
    "### Q2)check weather a triangle is an equilateral triangle or Isosceles triangle"
   ]
  },
  {
   "cell_type": "code",
   "execution_count": null,
   "id": "7929d537",
   "metadata": {},
   "outputs": [
    {
     "name": "stdout",
     "output_type": "stream",
     "text": [
      "Isosceles triangle\n"
     ]
    }
   ],
   "source": [
    "d=int(input(\"enter side 1\"))\n",
    "e=int(input(\"enter side 2\"))\n",
    "f=int(input(\"enter side 3\"))\n",
    "print(\"sides are\")\n",
    "print(d,e,f)\n",
    "if(d==e & e==f):\n",
    "    print(\" it is an equilateral triangle\")\n",
    "elif(d==e):\n",
    "    print(\"Isosceles triangle\")\n",
    "elif(e==f):\n",
    "    print(\"Isosceles triangle \")\n",
    "elif(f==d):\n",
    "    print(\"Isosceles triangle\")\n",
    "else:\n",
    "    print(\"all sides are different.\")"
   ]
  },
  {
   "cell_type": "markdown",
   "id": "92c5a9b6",
   "metadata": {},
   "source": [
    "### Q3)check weather a charchter entered by the user is vowel or not"
   ]
  },
  {
   "cell_type": "code",
   "execution_count": null,
   "id": "3a3468b6",
   "metadata": {},
   "outputs": [
    {
     "data": {
      "text/plain": [
       "False"
      ]
     },
     "execution_count": 12,
     "metadata": {},
     "output_type": "execute_result"
    }
   ],
   "source": [
    "vowels=(\"a\",\"e\",\"i\",\"o\",\"u\")\n",
    "j=input(\"enter the charchter\")\n",
    "print(j)\n",
    "j in vowels"
   ]
  },
  {
   "cell_type": "code",
   "execution_count": 1,
   "id": "55763b59",
   "metadata": {},
   "outputs": [
    {
     "name": "stdout",
     "output_type": "stream",
     "text": [
      "I\n",
      "it is a vowel\n"
     ]
    }
   ],
   "source": [
    "vowel=\"aeiouAEIOU\"\n",
    "k=input(\"enter a charchter\")\n",
    "print(k)\n",
    "if k in vowel:\n",
    "      print(\"it is a vowel\")\n",
    "else:\n",
    "      print (\"not a vowel\")\n"
   ]
  },
  {
   "cell_type": "markdown",
   "id": "fd105422",
   "metadata": {},
   "source": [
    "### Q4)check weather a year is a leap year or not"
   ]
  },
  {
   "cell_type": "code",
   "execution_count": 16,
   "id": "b95529b7",
   "metadata": {},
   "outputs": [
    {
     "name": "stdout",
     "output_type": "stream",
     "text": [
      "it is a leap year\n"
     ]
    }
   ],
   "source": [
    "year=int(input(\"enter the year\"))\n",
    "if(year%400==0):\n",
    "    print(\"it is a leap year\")\n",
    "else:\n",
    "    print(\"not a leap year\")"
   ]
  },
  {
   "cell_type": "markdown",
   "id": "60005c88",
   "metadata": {},
   "source": [
    "### Q5)check weather a number is even or odd"
   ]
  },
  {
   "cell_type": "code",
   "execution_count": 18,
   "id": "62a425f8",
   "metadata": {},
   "outputs": [
    {
     "name": "stdout",
     "output_type": "stream",
     "text": [
      "the number is even\n"
     ]
    }
   ],
   "source": [
    "n=int(input(\"enter number\"))\n",
    "if(n%2==0):\n",
    "    print(\"the number is even\")\n",
    "else:\n",
    "    print(\"the number is odd\")"
   ]
  },
  {
   "cell_type": "markdown",
   "id": "8f39934a",
   "metadata": {},
   "source": [
    "### Q6)calculate the gross salary of an employee where thr basic salary is 50000 HRA is 5% of basic salary and DA is 10% of basic salary"
   ]
  },
  {
   "cell_type": "code",
   "execution_count": 2,
   "id": "84eae5fe",
   "metadata": {},
   "outputs": [
    {
     "name": "stdout",
     "output_type": "stream",
     "text": [
      "basic salary 50000\n",
      "hra percent 5\n",
      "da percent 10\n",
      "hra amount 2500.0\n",
      "da amount 5000.0\n",
      "gross salary is  57500.0\n"
     ]
    }
   ],
   "source": [
    "basic_salary=int(input(\"enter basic salary\"))\n",
    "HRA=int(input(\"enter percent of House Rent Allowance in basic salary\"))\n",
    "DA=int(input(\"enter percent of Dearness Allowance in basic salary\"))\n",
    "print(\"basic salary\",basic_salary)\n",
    "print(\"hra percent\",HRA)\n",
    "print(\"da percent\",DA)\n",
    "HRA_amnt=HRA/100*basic_salary\n",
    "DA_amnt=DA/100*basic_salary\n",
    "print(\"hra amount\",HRA_amnt)\n",
    "print(\"da amount\",DA_amnt)\n",
    "gross_salary= basic_salary+HRA_amnt+DA_amnt\n",
    "print(\"gross salary is \",gross_salary)\n"
   ]
  },
  {
   "cell_type": "code",
   "execution_count": 2,
   "id": "9e22463d",
   "metadata": {},
   "outputs": [],
   "source": [
    "sk=input(\"enter a string\")\n",
    "f=sk.split()\n",
    "for i in f:\n",
    "    if i=='?':\n",
    "        print(\"it has a question mark\")\n"
   ]
  },
  {
   "cell_type": "code",
   "execution_count": null,
   "id": "ed19c62d",
   "metadata": {},
   "outputs": [],
   "source": []
  }
 ],
 "metadata": {
  "kernelspec": {
   "display_name": "base",
   "language": "python",
   "name": "python3"
  },
  "language_info": {
   "codemirror_mode": {
    "name": "ipython",
    "version": 3
   },
   "file_extension": ".py",
   "mimetype": "text/x-python",
   "name": "python",
   "nbconvert_exporter": "python",
   "pygments_lexer": "ipython3",
   "version": "3.13.2"
  }
 },
 "nbformat": 4,
 "nbformat_minor": 5
}
