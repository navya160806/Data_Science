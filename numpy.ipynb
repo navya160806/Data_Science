{
 "cells": [
  {
   "cell_type": "markdown",
   "id": "fbb4d825",
   "metadata": {},
   "source": [
    "## numpy library\n"
   ]
  },
  {
   "cell_type": "code",
   "execution_count": 1,
   "id": "e0157528",
   "metadata": {},
   "outputs": [],
   "source": [
    "import numpy as np"
   ]
  },
  {
   "cell_type": "code",
   "execution_count": 2,
   "id": "1ab6b3a1",
   "metadata": {},
   "outputs": [
    {
     "name": "stdout",
     "output_type": "stream",
     "text": [
      "[1 2 3 4 5]\n"
     ]
    }
   ],
   "source": [
    "a=np.array([1,2,3,4,5])\n",
    "print(a)"
   ]
  },
  {
   "cell_type": "code",
   "execution_count": 3,
   "id": "36cc3566",
   "metadata": {},
   "outputs": [
    {
     "data": {
      "text/plain": [
       "numpy.ndarray"
      ]
     },
     "execution_count": 3,
     "metadata": {},
     "output_type": "execute_result"
    }
   ],
   "source": [
    "type(a)"
   ]
  },
  {
   "cell_type": "code",
   "execution_count": 4,
   "id": "e4f5bb0f",
   "metadata": {},
   "outputs": [
    {
     "name": "stdout",
     "output_type": "stream",
     "text": [
      "[[1 2 3 4]\n",
      " [2 3 4 5]]\n"
     ]
    }
   ],
   "source": [
    "#creating a 2d array\n",
    "a2=np.array([[1,2,3,4],[2,3,4,5]])\n",
    "print(a2)"
   ]
  },
  {
   "cell_type": "code",
   "execution_count": 5,
   "id": "518392d9",
   "metadata": {},
   "outputs": [
    {
     "name": "stdout",
     "output_type": "stream",
     "text": [
      "[[[1 2 3 4]\n",
      "  [1 2 3 4]]\n",
      "\n",
      " [[5 6 7 8]\n",
      "  [8 8 9 0]]]\n"
     ]
    }
   ],
   "source": [
    "#creating a 3d array\n",
    "a3=np.array([[[1,2,3,4],[1,2,3,4]],[[5,6,7,8],[8,8,9,0]]])\n",
    "print(a3)"
   ]
  },
  {
   "cell_type": "code",
   "execution_count": 6,
   "id": "5d3b1cb7",
   "metadata": {},
   "outputs": [
    {
     "name": "stdout",
     "output_type": "stream",
     "text": [
      "(2, 4)\n"
     ]
    }
   ],
   "source": [
    "# shape= no. of rows and colums \n",
    "print(a2.shape)"
   ]
  },
  {
   "cell_type": "code",
   "execution_count": 7,
   "id": "dcc30d4f",
   "metadata": {},
   "outputs": [
    {
     "name": "stdout",
     "output_type": "stream",
     "text": [
      "2\n"
     ]
    }
   ],
   "source": [
    "#ndim= dimension of array\n",
    "print(a2.ndim)"
   ]
  },
  {
   "cell_type": "code",
   "execution_count": 8,
   "id": "d090583d",
   "metadata": {},
   "outputs": [
    {
     "name": "stdout",
     "output_type": "stream",
     "text": [
      "int64\n"
     ]
    }
   ],
   "source": [
    "#dtype=data typ[es of elemenets in array\n",
    "print(a2.dtype)"
   ]
  },
  {
   "cell_type": "code",
   "execution_count": 9,
   "id": "fb8f3c30",
   "metadata": {},
   "outputs": [
    {
     "data": {
      "text/plain": [
       "array([0, 1, 2, 3, 4, 5, 6, 7, 8, 9])"
      ]
     },
     "execution_count": 9,
     "metadata": {},
     "output_type": "execute_result"
    }
   ],
   "source": [
    "#arange= to inserts elements \n",
    "np.arange(10)\n"
   ]
  },
  {
   "cell_type": "code",
   "execution_count": 10,
   "id": "d7c891c8",
   "metadata": {},
   "outputs": [
    {
     "data": {
      "text/plain": [
       "array([ 1,  2,  3,  4,  5,  6,  7,  8,  9, 10])"
      ]
     },
     "execution_count": 10,
     "metadata": {},
     "output_type": "execute_result"
    }
   ],
   "source": [
    "np.arange(1,11)\n"
   ]
  },
  {
   "cell_type": "code",
   "execution_count": 11,
   "id": "5bb8f6dc",
   "metadata": {},
   "outputs": [
    {
     "data": {
      "text/plain": [
       "array([1, 3, 5, 7, 9])"
      ]
     },
     "execution_count": 11,
     "metadata": {},
     "output_type": "execute_result"
    }
   ],
   "source": [
    "np.arange(1,11,2)"
   ]
  },
  {
   "cell_type": "code",
   "execution_count": 12,
   "id": "ca1feac7",
   "metadata": {},
   "outputs": [
    {
     "data": {
      "text/plain": [
       "array([[2, 5, 6],\n",
       "       [8, 5, 8]], dtype=int32)"
      ]
     },
     "execution_count": 12,
     "metadata": {},
     "output_type": "execute_result"
    }
   ],
   "source": [
    "np.random.randint(1,11,size=(2,3))"
   ]
  },
  {
   "cell_type": "code",
   "execution_count": 13,
   "id": "39954b1e",
   "metadata": {},
   "outputs": [
    {
     "name": "stdout",
     "output_type": "stream",
     "text": [
      "[[7 2 3]\n",
      " [2 5 2]\n",
      " [3 5 3]]\n",
      "[[1 8 3]\n",
      " [2 5 2]\n",
      " [5 7 8]]\n"
     ]
    }
   ],
   "source": [
    "x=np.array([[7,2,3],\n",
    "            [2,5,2],\n",
    "            [3,5,3]\n",
    "            ])\n",
    "y =np.array([[1,8,3],\n",
    "             [2,5,2],\n",
    "             [5,7,8]])\n",
    "print(x)\n",
    "print(y)"
   ]
  },
  {
   "cell_type": "code",
   "execution_count": 14,
   "id": "ad8c7f65",
   "metadata": {},
   "outputs": [
    {
     "name": "stdout",
     "output_type": "stream",
     "text": [
      "[[26 87 49]\n",
      " [22 55 32]\n",
      " [28 70 43]]\n"
     ]
    }
   ],
   "source": [
    "print (x@y)#matrix multiplication"
   ]
  },
  {
   "cell_type": "code",
   "execution_count": 15,
   "id": "71e8c130",
   "metadata": {},
   "outputs": [
    {
     "data": {
      "text/plain": [
       "array([[26, 87, 49],\n",
       "       [22, 55, 32],\n",
       "       [28, 70, 43]])"
      ]
     },
     "execution_count": 15,
     "metadata": {},
     "output_type": "execute_result"
    }
   ],
   "source": [
    "np.dot(x,y)#matrix multiplication\n"
   ]
  },
  {
   "cell_type": "code",
   "execution_count": 16,
   "id": "85705b04",
   "metadata": {},
   "outputs": [
    {
     "data": {
      "text/plain": [
       "np.int64(37800)"
      ]
     },
     "execution_count": 16,
     "metadata": {},
     "output_type": "execute_result"
    }
   ],
   "source": [
    "#prod is the shortcut for product multiply the elements in one matrix\n",
    "\n",
    "x.prod()"
   ]
  },
  {
   "cell_type": "code",
   "execution_count": 17,
   "id": "72edaacd",
   "metadata": {},
   "outputs": [
    {
     "data": {
      "text/plain": [
       "np.float64(3.5555555555555554)"
      ]
     },
     "execution_count": 17,
     "metadata": {},
     "output_type": "execute_result"
    }
   ],
   "source": [
    "x.mean()#mean of all elements"
   ]
  },
  {
   "cell_type": "code",
   "execution_count": 18,
   "id": "c6d93648",
   "metadata": {},
   "outputs": [
    {
     "data": {
      "text/plain": [
       "np.float64(4.555555555555555)"
      ]
     },
     "execution_count": 18,
     "metadata": {},
     "output_type": "execute_result"
    }
   ],
   "source": [
    "y.mean()"
   ]
  },
  {
   "cell_type": "code",
   "execution_count": 19,
   "id": "77fe7700",
   "metadata": {},
   "outputs": [
    {
     "name": "stdout",
     "output_type": "stream",
     "text": [
      "[[7 2 3]\n",
      " [2 5 2]\n",
      " [3 5 3]]\n"
     ]
    }
   ],
   "source": [
    "print(x)"
   ]
  },
  {
   "cell_type": "code",
   "execution_count": 20,
   "id": "165d0729",
   "metadata": {},
   "outputs": [
    {
     "data": {
      "text/plain": [
       "array([4.        , 4.        , 2.66666667])"
      ]
     },
     "execution_count": 20,
     "metadata": {},
     "output_type": "execute_result"
    }
   ],
   "source": [
    "x.mean(axis=0)#column wise mean"
   ]
  },
  {
   "cell_type": "code",
   "execution_count": 21,
   "id": "1b15f272",
   "metadata": {},
   "outputs": [
    {
     "data": {
      "text/plain": [
       "array([4.        , 3.        , 3.66666667])"
      ]
     },
     "execution_count": 21,
     "metadata": {},
     "output_type": "execute_result"
    }
   ],
   "source": [
    "x.mean(axis=1)#row wise mean"
   ]
  },
  {
   "cell_type": "code",
   "execution_count": 22,
   "id": "cd1dd6fd",
   "metadata": {},
   "outputs": [
    {
     "name": "stdout",
     "output_type": "stream",
     "text": [
      "32\n",
      "1.640535895581489\n",
      "2.6913580246913584\n"
     ]
    }
   ],
   "source": [
    "print(x.sum())\n",
    "print(x.std())\n",
    "print(x.var())"
   ]
  },
  {
   "cell_type": "code",
   "execution_count": 23,
   "id": "812b91f7",
   "metadata": {},
   "outputs": [
    {
     "name": "stdout",
     "output_type": "stream",
     "text": [
      "3.0\n",
      "5.0\n",
      "7.0\n"
     ]
    }
   ],
   "source": [
    "a= np.array([1,2,3,4,5,6,7,8,9])\n",
    "print(np.percentile(a,25))#1st quartile\n",
    "print(np.percentile(a,50))#median\n",
    "print(np.percentile(a,75))#3rd quartile"
   ]
  },
  {
   "cell_type": "code",
   "execution_count": 24,
   "id": "69d50704",
   "metadata": {},
   "outputs": [
    {
     "name": "stdout",
     "output_type": "stream",
     "text": [
      "[[48 72 34 62]\n",
      " [43 11 62 81]\n",
      " [94 87 14 25]\n",
      " [52 93 78 69]]\n"
     ]
    }
   ],
   "source": [
    "b=np.random.randint(11,100,(4,4))\n",
    "print(b)"
   ]
  },
  {
   "cell_type": "code",
   "execution_count": 25,
   "id": "9e0f61b3",
   "metadata": {},
   "outputs": [
    {
     "name": "stdout",
     "output_type": "stream",
     "text": [
      "2X8\n",
      "[[48 72 34 62 43 11 62 81]\n",
      " [94 87 14 25 52 93 78 69]]\n",
      "8X2\n",
      "[[48 72]\n",
      " [34 62]\n",
      " [43 11]\n",
      " [62 81]\n",
      " [94 87]\n",
      " [14 25]\n",
      " [52 93]\n",
      " [78 69]]\n"
     ]
    }
   ],
   "source": [
    "print('2X8')\n",
    "print(b.reshape(2,8))\n",
    "print('8X2')\n",
    "print(b.reshape(8,2))"
   ]
  },
  {
   "cell_type": "code",
   "execution_count": 26,
   "id": "f781f9a9",
   "metadata": {},
   "outputs": [
    {
     "name": "stdout",
     "output_type": "stream",
     "text": [
      "[[ 2  8 10  5  7]\n",
      " [10  6  9  3  9]\n",
      " [ 7  4  6 10  9]\n",
      " [ 4  3  8  1  4]\n",
      " [10  2  8  1  8]]\n"
     ]
    }
   ],
   "source": [
    "x=np.random.randint(1,11,(5,5))\n",
    "print(x)"
   ]
  },
  {
   "cell_type": "code",
   "execution_count": 27,
   "id": "1dc0e151",
   "metadata": {},
   "outputs": [
    {
     "name": "stdout",
     "output_type": "stream",
     "text": [
      "[ 2  8 10  5  7]\n",
      "8\n",
      "[10  2  8  1  8]\n",
      "[[ 2  8 10  5  7]\n",
      " [10  6  9  3  9]\n",
      " [ 7  4  6 10  9]]\n",
      "[[ 4  3  8  1  4]\n",
      " [10  2  8  1  8]]\n"
     ]
    }
   ],
   "source": [
    "print(x[0])#1st row\n",
    "print(x[0,1])#1st row and secon d coloumn first element\n",
    "print(x[-1])\n",
    "\n",
    "print(x[:3])\n",
    "print(x[3:])"
   ]
  },
  {
   "cell_type": "code",
   "execution_count": null,
   "id": "6b3de2cb",
   "metadata": {},
   "outputs": [],
   "source": []
  }
 ],
 "metadata": {
  "kernelspec": {
   "display_name": "base",
   "language": "python",
   "name": "python3"
  },
  "language_info": {
   "codemirror_mode": {
    "name": "ipython",
    "version": 3
   },
   "file_extension": ".py",
   "mimetype": "text/x-python",
   "name": "python",
   "nbconvert_exporter": "python",
   "pygments_lexer": "ipython3",
   "version": "3.13.2"
  }
 },
 "nbformat": 4,
 "nbformat_minor": 5
}
