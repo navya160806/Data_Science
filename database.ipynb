{
 "cells": [
  {
   "cell_type": "code",
   "execution_count": 1,
   "id": "2542e1be",
   "metadata": {},
   "outputs": [],
   "source": [
    "from sqlalchemy  import create_engine, Column, Integer , String\n",
    "from sqlalchemy.orm import declarative_base,sessionmaker"
   ]
  },
  {
   "cell_type": "markdown",
   "id": "5f8e7505",
   "metadata": {},
   "source": [
    "- create_engine: it is used to make connection from the database\n",
    "- column: it defines columns in database\n",
    "- Integer and String : datatypes of values in database"
   ]
  },
  {
   "cell_type": "code",
   "execution_count": 2,
   "id": "ab42000d",
   "metadata": {},
   "outputs": [],
   "source": [
    "engine = create_engine('sqlite:///User.db')"
   ]
  },
  {
   "cell_type": "code",
   "execution_count": 3,
   "id": "4e433ea4",
   "metadata": {},
   "outputs": [],
   "source": [
    "Base= declarative_base()"
   ]
  },
  {
   "cell_type": "code",
   "execution_count": 4,
   "id": "3ba85977",
   "metadata": {},
   "outputs": [],
   "source": [
    "class User(Base):\n",
    "    __tablename__='Users'\n",
    "    id = Column(Integer,primary_key=True)\n",
    "    name=Column(String)\n",
    "    password=Column(String)"
   ]
  },
  {
   "cell_type": "code",
   "execution_count": 5,
   "id": "a23aadd5",
   "metadata": {},
   "outputs": [],
   "source": [
    "Base.metadata.create_all(engine)"
   ]
  },
  {
   "cell_type": "code",
   "execution_count": 6,
   "id": "2cba2e1b",
   "metadata": {},
   "outputs": [],
   "source": [
    "Session = sessionmaker(bind=engine) #this line tells the session maker to use the engine we created\n",
    "session = Session()#this line creates a session object"
   ]
  },
  {
   "cell_type": "code",
   "execution_count": 7,
   "id": "49353ea4",
   "metadata": {},
   "outputs": [],
   "source": [
    "#add a new user \n",
    "new_user = User(name='alice',password='2736')\n",
    "session.add(new_user)\n",
    "session.commit()"
   ]
  },
  {
   "cell_type": "code",
   "execution_count": 8,
   "id": "6f0c6eb2",
   "metadata": {},
   "outputs": [],
   "source": [
    "#add a new user \n",
    "new_user = User(name='john',password='abrakadabra')\n",
    "session.add(new_user)\n",
    "session.commit()"
   ]
  },
  {
   "cell_type": "code",
   "execution_count": 9,
   "id": "b51a4890",
   "metadata": {},
   "outputs": [],
   "source": [
    "#add a new user \n",
    "new_user = User(name='ishita',password='0011')\n",
    "session.add(new_user)\n",
    "session.commit()"
   ]
  },
  {
   "cell_type": "code",
   "execution_count": 11,
   "id": "aa726c7e",
   "metadata": {},
   "outputs": [
    {
     "name": "stdout",
     "output_type": "stream",
     "text": [
      "ID:2,Name:john,Password:abrakadabra\n",
      "ID:3,Name:ishita,Password:0011\n",
      "ID:4,Name:alice,Password:2736\n",
      "ID:5,Name:john,Password:abrakadabra\n",
      "ID:6,Name:ishita,Password:0011\n",
      "ID:7,Name:alice,Password:2736\n",
      "ID:8,Name:john,Password:abrakadabra\n",
      "ID:9,Name:john smith,Password:0011\n",
      "ID:10,Name:alice,Password:2736\n",
      "ID:11,Name:john,Password:abrakadabra\n",
      "ID:12,Name:ishita,Password:0011\n",
      "ID:13,Name:alice,Password:2736\n",
      "ID:14,Name:john,Password:abrakadabra\n",
      "ID:15,Name:ishita,Password:0011\n"
     ]
    }
   ],
   "source": [
    "#retrive all users\n",
    "users=session.query(User).all()\n",
    "#.all()it is ujsded to retrive all information \n",
    "for user in  users:\n",
    "    print(f'ID:{user.id},Name:{user.name},Password:{user.password}')"
   ]
  },
  {
   "cell_type": "code",
   "execution_count": null,
   "id": "bc5b878e",
   "metadata": {},
   "outputs": [],
   "source": [
    "#update all users\n",
    "Users = session.query(User).filter_by(id=1).first()\n",
    "user.name='john smith'\n",
    "session.commit()"
   ]
  },
  {
   "cell_type": "code",
   "execution_count": null,
   "id": "f6fed987",
   "metadata": {},
   "outputs": [],
   "source": [
    "#retrive all users\n"
   ]
  },
  {
   "cell_type": "code",
   "execution_count": null,
   "id": "bb1c7f73",
   "metadata": {},
   "outputs": [],
   "source": [
    "#delete a user\n",
    "users=session.query(User).filter_by(id=1).first()\n",
    "session.delete(users)\n",
    "session.commit()"
   ]
  },
  {
   "cell_type": "code",
   "execution_count": null,
   "id": "707ea346",
   "metadata": {},
   "outputs": [],
   "source": []
  }
 ],
 "metadata": {
  "kernelspec": {
   "display_name": "base",
   "language": "python",
   "name": "python3"
  },
  "language_info": {
   "codemirror_mode": {
    "name": "ipython",
    "version": 3
   },
   "file_extension": ".py",
   "mimetype": "text/x-python",
   "name": "python",
   "nbconvert_exporter": "python",
   "pygments_lexer": "ipython3",
   "version": "3.13.2"
  }
 },
 "nbformat": 4,
 "nbformat_minor": 5
}
