{
 "cells": [
  {
   "cell_type": "markdown",
   "id": "665b381a",
   "metadata": {},
   "source": [
    "arthematic operater "
   ]
  },
  {
   "cell_type": "code",
   "execution_count": 9,
   "id": "ba204fcc",
   "metadata": {},
   "outputs": [
    {
     "name": "stdout",
     "output_type": "stream",
     "text": [
      "15\n",
      "-5\n",
      "50\n",
      "0.5\n",
      "9765625\n"
     ]
    }
   ],
   "source": [
    "a=5\n",
    "b=10\n",
    "print(a+b)\n",
    "print(a-b)\n",
    "print(a*b)\n",
    "print(a/b)\n",
    "print(a**b)\n"
   ]
  },
  {
   "cell_type": "markdown",
   "id": "8283ef49",
   "metadata": {},
   "source": [
    "assignment operater "
   ]
  },
  {
   "cell_type": "code",
   "execution_count": 10,
   "id": "15e34dcb",
   "metadata": {},
   "outputs": [
    {
     "name": "stdout",
     "output_type": "stream",
     "text": [
      "12\n"
     ]
    }
   ],
   "source": [
    "\n",
    "x=10\n",
    "x+=2\n",
    "print(x)"
   ]
  },
  {
   "cell_type": "markdown",
   "id": "e359d46e",
   "metadata": {},
   "source": [
    "logical operater "
   ]
  },
  {
   "cell_type": "code",
   "execution_count": 14,
   "id": "60a7c4ec",
   "metadata": {},
   "outputs": [
    {
     "data": {
      "text/plain": [
       "True"
      ]
     },
     "execution_count": 14,
     "metadata": {},
     "output_type": "execute_result"
    }
   ],
   "source": [
    "b>a and a<x\n"
   ]
  },
  {
   "cell_type": "code",
   "execution_count": 15,
   "id": "51ec0b37",
   "metadata": {},
   "outputs": [
    {
     "data": {
      "text/plain": [
       "True"
      ]
     },
     "execution_count": 15,
     "metadata": {},
     "output_type": "execute_result"
    }
   ],
   "source": [
    "a>b or a<x"
   ]
  },
  {
   "cell_type": "markdown",
   "id": "85081935",
   "metadata": {},
   "source": [
    "identity operater "
   ]
  },
  {
   "cell_type": "code",
   "execution_count": null,
   "id": "045cb6ca",
   "metadata": {},
   "outputs": [
    {
     "data": {
      "text/plain": [
       "False"
      ]
     },
     "execution_count": 17,
     "metadata": {},
     "output_type": "execute_result"
    }
   ],
   "source": [
    "y=12\n",
    "x is y\n"
   ]
  },
  {
   "cell_type": "code",
   "execution_count": 18,
   "id": "85b9b505",
   "metadata": {},
   "outputs": [
    {
     "data": {
      "text/plain": [
       "True"
      ]
     },
     "execution_count": 18,
     "metadata": {},
     "output_type": "execute_result"
    }
   ],
   "source": [
    "a is not b"
   ]
  },
  {
   "cell_type": "code",
   "execution_count": 19,
   "id": "2358aa9b",
   "metadata": {},
   "outputs": [
    {
     "data": {
      "text/plain": [
       "False"
      ]
     },
     "execution_count": 19,
     "metadata": {},
     "output_type": "execute_result"
    }
   ],
   "source": [
    "x is not y"
   ]
  },
  {
   "cell_type": "markdown",
   "id": "d92b2ecd",
   "metadata": {},
   "source": [
    "membership operater "
   ]
  },
  {
   "cell_type": "code",
   "execution_count": 24,
   "id": "da6af3c0",
   "metadata": {},
   "outputs": [
    {
     "data": {
      "text/plain": [
       "False"
      ]
     },
     "execution_count": 24,
     "metadata": {},
     "output_type": "execute_result"
    }
   ],
   "source": [
    "z=10\n",
    "list={12,23,35,78,90,}\n",
    "z in list"
   ]
  },
  {
   "cell_type": "code",
   "execution_count": 23,
   "id": "2111fd0d",
   "metadata": {},
   "outputs": [
    {
     "data": {
      "text/plain": [
       "True"
      ]
     },
     "execution_count": 23,
     "metadata": {},
     "output_type": "execute_result"
    }
   ],
   "source": [
    "x in list"
   ]
  }
 ],
 "metadata": {
  "kernelspec": {
   "display_name": "base",
   "language": "python",
   "name": "python3"
  },
  "language_info": {
   "codemirror_mode": {
    "name": "ipython",
    "version": 3
   },
   "file_extension": ".py",
   "mimetype": "text/x-python",
   "name": "python",
   "nbconvert_exporter": "python",
   "pygments_lexer": "ipython3",
   "version": "3.13.2"
  }
 },
 "nbformat": 4,
 "nbformat_minor": 5
}
