{
 "cells": [
  {
   "cell_type": "markdown",
   "id": "0b53414d",
   "metadata": {},
   "source": [
    "## file handling"
   ]
  },
  {
   "cell_type": "code",
   "execution_count": null,
   "id": "88a31b8b",
   "metadata": {},
   "outputs": [],
   "source": [
    "import os"
   ]
  },
  {
   "cell_type": "code",
   "execution_count": null,
   "id": "c84e193b",
   "metadata": {},
   "outputs": [
    {
     "name": "stdout",
     "output_type": "stream",
     "text": [
      "current working dictionary is c:\\Users\\Prakhar Singh\\navya\\github\\Data_Science\n"
     ]
    }
   ],
   "source": [
    "print(\"current working dictionary is\",os.getcwd())"
   ]
  },
  {
   "cell_type": "code",
   "execution_count": 13,
   "id": "c088c5a9",
   "metadata": {},
   "outputs": [
    {
     "name": "stdout",
     "output_type": "stream",
     "text": [
      "files in cureent working directory ['.git', 'assignment1.ipynb', 'basics.ipynb', 'conditions.ipynb', 'datatypes.ipynb', 'data_structures', 'filehjandling.ipynb', 'flask', 'functions.ipynb', 'functions_qs.ipynb', 'liabraries .ipynb', 'logical_codes', 'loops.ipynb', 'operaters.ipynb', 'practice questions', 'README.md']\n"
     ]
    }
   ],
   "source": [
    "files=os.listdir()\n",
    "print(\"files in cureent working directory\",files)"
   ]
  },
  {
   "cell_type": "code",
   "execution_count": 18,
   "id": "3a7a0c09",
   "metadata": {},
   "outputs": [
    {
     "name": "stdout",
     "output_type": "stream",
     "text": [
      "files in current working directorey ['.git', 'assignment1.ipynb', 'basics.ipynb', 'conditions.ipynb', 'datatypes.ipynb', 'data_structures', 'filehjandling.ipynb', 'flask', 'functions.ipynb', 'functions_qs.ipynb', 'liabraries .ipynb', 'logical_codes', 'loops.ipynb', 'operaters.ipynb', 'practice questions', 'README.md']\n"
     ]
    }
   ],
   "source": [
    "files=os.listdir(r\"c:\\Users\\Prakhar Singh\\navya\\github\\Data_Science\")\n",
    "print(\"files in current working directorey\",files)"
   ]
  },
  {
   "cell_type": "code",
   "execution_count": 21,
   "id": "5806538a",
   "metadata": {},
   "outputs": [
    {
     "name": "stdout",
     "output_type": "stream",
     "text": [
      "=> C:\\Users\\Prakhar Singh\\navya\\github\\Data_Science\n",
      "📁 ['.git', 'data_structures', 'flask', 'logical_codes', 'practice questions']\n",
      "🗄️ ['assignment1.ipynb', 'basics.ipynb', 'conditions.ipynb', 'datatypes.ipynb', 'filehjandling.ipynb', 'functions.ipynb', 'functions_qs.ipynb', 'liabraries .ipynb', 'loops.ipynb', 'operaters.ipynb', 'README.md']\n",
      "=> C:\\Users\\Prakhar Singh\\navya\\github\\Data_Science\\.git\n",
      "📁 ['hooks', 'info', 'logs', 'objects', 'refs']\n",
      "🗄️ ['COMMIT_EDITMSG', 'config', 'description', 'FETCH_HEAD', 'HEAD', 'index', 'ORIG_HEAD', 'packed-refs']\n",
      "=> C:\\Users\\Prakhar Singh\\navya\\github\\Data_Science\\.git\\hooks\n",
      "📁 []\n",
      "🗄️ ['applypatch-msg.sample', 'commit-msg.sample', 'fsmonitor-watchman.sample', 'post-update.sample', 'pre-applypatch.sample', 'pre-commit.sample', 'pre-merge-commit.sample', 'pre-push.sample', 'pre-rebase.sample', 'pre-receive.sample', 'prepare-commit-msg.sample', 'push-to-checkout.sample', 'sendemail-validate.sample', 'update.sample']\n",
      "=> C:\\Users\\Prakhar Singh\\navya\\github\\Data_Science\\.git\\info\n",
      "📁 []\n",
      "🗄️ ['exclude']\n",
      "=> C:\\Users\\Prakhar Singh\\navya\\github\\Data_Science\\.git\\logs\n",
      "📁 ['refs']\n",
      "🗄️ ['HEAD']\n",
      "=> C:\\Users\\Prakhar Singh\\navya\\github\\Data_Science\\.git\\logs\\refs\n",
      "📁 ['heads', 'remotes']\n",
      "🗄️ []\n",
      "=> C:\\Users\\Prakhar Singh\\navya\\github\\Data_Science\\.git\\logs\\refs\\heads\n",
      "📁 []\n",
      "🗄️ ['main']\n",
      "=> C:\\Users\\Prakhar Singh\\navya\\github\\Data_Science\\.git\\logs\\refs\\remotes\n",
      "📁 ['origin']\n",
      "🗄️ []\n",
      "=> C:\\Users\\Prakhar Singh\\navya\\github\\Data_Science\\.git\\logs\\refs\\remotes\\origin\n",
      "📁 []\n",
      "🗄️ ['HEAD', 'main']\n",
      "=> C:\\Users\\Prakhar Singh\\navya\\github\\Data_Science\\.git\\objects\n",
      "📁 ['00', '02', '06', '07', '08', '0c', '10', '15', '1b', '1d', '2b', '33', '38', '40', '50', '52', '53', '55', '5d', '61', '62', '70', '78', '79', '82', '96', '9b', '9d', '9f', 'a4', 'a6', 'ac', 'ad', 'ae', 'af', 'b2', 'b6', 'b7', 'b9', 'bb', 'c1', 'd4', 'd9', 'db', 'df', 'e4', 'e6', 'e7', 'ea', 'f0', 'fc', 'fe', 'info', 'pack']\n",
      "🗄️ []\n",
      "=> C:\\Users\\Prakhar Singh\\navya\\github\\Data_Science\\.git\\objects\\00\n",
      "📁 []\n",
      "🗄️ ['c33861889664dd9ac0efa9016458de4213989e', 'd15804533a11d4e1d17e12b90dd0be83aa9ae9']\n",
      "=> C:\\Users\\Prakhar Singh\\navya\\github\\Data_Science\\.git\\objects\\02\n",
      "📁 []\n",
      "🗄️ ['5ced883909e45e3fc819f707abd45d4a908c13']\n",
      "=> C:\\Users\\Prakhar Singh\\navya\\github\\Data_Science\\.git\\objects\\06\n",
      "📁 []\n",
      "🗄️ ['9f7e38fa067bc2f61b776cbc906a19bf0bdb7a']\n",
      "=> C:\\Users\\Prakhar Singh\\navya\\github\\Data_Science\\.git\\objects\\07\n",
      "📁 []\n",
      "🗄️ ['9902ae6f4583b8677078e23e2eaad65c313642']\n",
      "=> C:\\Users\\Prakhar Singh\\navya\\github\\Data_Science\\.git\\objects\\08\n",
      "📁 []\n",
      "🗄️ ['c4cc732bb821ffc779c5de153ac6f61dac6c88']\n",
      "=> C:\\Users\\Prakhar Singh\\navya\\github\\Data_Science\\.git\\objects\\0c\n",
      "📁 []\n",
      "🗄️ ['d9a79f95e4e8f2995c00767d0e74fca86ae6f8', 'f68ed1b603f4619a0a273149cef3947a2cdf79']\n",
      "=> C:\\Users\\Prakhar Singh\\navya\\github\\Data_Science\\.git\\objects\\10\n",
      "📁 []\n",
      "🗄️ ['8498ac1885f1fb9599f8814d8d463c71050aef']\n",
      "=> C:\\Users\\Prakhar Singh\\navya\\github\\Data_Science\\.git\\objects\\15\n",
      "📁 []\n",
      "🗄️ ['30fe84fa12a27ec7455765a8d445b1fe703387']\n",
      "=> C:\\Users\\Prakhar Singh\\navya\\github\\Data_Science\\.git\\objects\\1b\n",
      "📁 []\n",
      "🗄️ ['7e757e1ff00428d356d0541713c8d6a7e34db4']\n",
      "=> C:\\Users\\Prakhar Singh\\navya\\github\\Data_Science\\.git\\objects\\1d\n",
      "📁 []\n",
      "🗄️ ['6f0b04cae31a44616ab2e1e6cd3ca10f5948b8']\n",
      "=> C:\\Users\\Prakhar Singh\\navya\\github\\Data_Science\\.git\\objects\\2b\n",
      "📁 []\n",
      "🗄️ ['7ff3a4d220d006b8fb9cf55846ec01be70dca1']\n",
      "=> C:\\Users\\Prakhar Singh\\navya\\github\\Data_Science\\.git\\objects\\33\n",
      "📁 []\n",
      "🗄️ ['6b5020fd33edf7c37f4ea52e73d9860008da5e']\n",
      "=> C:\\Users\\Prakhar Singh\\navya\\github\\Data_Science\\.git\\objects\\38\n",
      "📁 []\n",
      "🗄️ ['136f42e4bf2db2059c3d94cd012f6b64f3dbdf', '42fdfe52137b56832f6ebff47f913f17299d9b']\n",
      "=> C:\\Users\\Prakhar Singh\\navya\\github\\Data_Science\\.git\\objects\\40\n",
      "📁 []\n",
      "🗄️ ['355431f3dd39a48a3c84dcbf84a0686176e604']\n",
      "=> C:\\Users\\Prakhar Singh\\navya\\github\\Data_Science\\.git\\objects\\50\n",
      "📁 []\n",
      "🗄️ ['e7062f06430720ad74761da0fd06340a1b8647']\n",
      "=> C:\\Users\\Prakhar Singh\\navya\\github\\Data_Science\\.git\\objects\\52\n",
      "📁 []\n",
      "🗄️ ['85c9b3b4777121df6f158c328d8f136d4d762c']\n",
      "=> C:\\Users\\Prakhar Singh\\navya\\github\\Data_Science\\.git\\objects\\53\n",
      "📁 []\n",
      "🗄️ ['2dbdacfe0b48d77f0cce5ffd2d866e3e7acc53']\n",
      "=> C:\\Users\\Prakhar Singh\\navya\\github\\Data_Science\\.git\\objects\\55\n",
      "📁 []\n",
      "🗄️ ['b5e2ff7e015447da1a851e1b0902a9569fe5e7']\n",
      "=> C:\\Users\\Prakhar Singh\\navya\\github\\Data_Science\\.git\\objects\\5d\n",
      "📁 []\n",
      "🗄️ ['28ebc1533d7b09e5fe6f6cc341d167c6aa81c2']\n",
      "=> C:\\Users\\Prakhar Singh\\navya\\github\\Data_Science\\.git\\objects\\61\n",
      "📁 []\n",
      "🗄️ ['613a8d85973b5b81516ddcea811a8a3060fe66']\n",
      "=> C:\\Users\\Prakhar Singh\\navya\\github\\Data_Science\\.git\\objects\\62\n",
      "📁 []\n",
      "🗄️ ['552794d0cebb74a333c63f207d3025f086b532']\n",
      "=> C:\\Users\\Prakhar Singh\\navya\\github\\Data_Science\\.git\\objects\\70\n",
      "📁 []\n",
      "🗄️ ['ea5b91903ed5494742141eef50cca02876b6a7']\n",
      "=> C:\\Users\\Prakhar Singh\\navya\\github\\Data_Science\\.git\\objects\\78\n",
      "📁 []\n",
      "🗄️ ['8d850e6ad9faefb8491ce935438763eab0c581']\n",
      "=> C:\\Users\\Prakhar Singh\\navya\\github\\Data_Science\\.git\\objects\\79\n",
      "📁 []\n",
      "🗄️ ['1748e4521f9b506d15ed478cf57251fd4b4c21']\n",
      "=> C:\\Users\\Prakhar Singh\\navya\\github\\Data_Science\\.git\\objects\\82\n",
      "📁 []\n",
      "🗄️ ['5186b3e1bd6960e09603360e22c1bad87cf998']\n",
      "=> C:\\Users\\Prakhar Singh\\navya\\github\\Data_Science\\.git\\objects\\96\n",
      "📁 []\n",
      "🗄️ ['e7cd778f615a7f89ef1d20f04bbca9b373de68']\n",
      "=> C:\\Users\\Prakhar Singh\\navya\\github\\Data_Science\\.git\\objects\\9b\n",
      "📁 []\n",
      "🗄️ ['a7b3897581f94ca33e3f01fddcd94726ec3263']\n",
      "=> C:\\Users\\Prakhar Singh\\navya\\github\\Data_Science\\.git\\objects\\9d\n",
      "📁 []\n",
      "🗄️ ['12cba4ef5335f9bc0e8a0962b6c6d9e077d7aa']\n",
      "=> C:\\Users\\Prakhar Singh\\navya\\github\\Data_Science\\.git\\objects\\9f\n",
      "📁 []\n",
      "🗄️ ['016d9fe4624d59244329d6c844e6fa556f85fc']\n",
      "=> C:\\Users\\Prakhar Singh\\navya\\github\\Data_Science\\.git\\objects\\a4\n",
      "📁 []\n",
      "🗄️ ['c3ae5c2ca2848b191f3aac4871bb36b75b6fbb']\n",
      "=> C:\\Users\\Prakhar Singh\\navya\\github\\Data_Science\\.git\\objects\\a6\n",
      "📁 []\n",
      "🗄️ ['b5b127f0004fea3142c6aa0c44e15592353680']\n",
      "=> C:\\Users\\Prakhar Singh\\navya\\github\\Data_Science\\.git\\objects\\ac\n",
      "📁 []\n",
      "🗄️ ['4c76da18acd38346b884ed99f54522b3167468']\n",
      "=> C:\\Users\\Prakhar Singh\\navya\\github\\Data_Science\\.git\\objects\\ad\n",
      "📁 []\n",
      "🗄️ ['bc03a57040448b9cb94d2fdefc0b8b30bbf0b4', 'd1667a03f8731d4acb7e35d19a651db95bb240']\n",
      "=> C:\\Users\\Prakhar Singh\\navya\\github\\Data_Science\\.git\\objects\\ae\n",
      "📁 []\n",
      "🗄️ ['0f9cb75fef6fe72937924cf0d043e585e65433']\n",
      "=> C:\\Users\\Prakhar Singh\\navya\\github\\Data_Science\\.git\\objects\\af\n",
      "📁 []\n",
      "🗄️ ['e66ac0cae4c63a86010e3d31e00b32aebf2866']\n",
      "=> C:\\Users\\Prakhar Singh\\navya\\github\\Data_Science\\.git\\objects\\b2\n",
      "📁 []\n",
      "🗄️ ['6ed04887021d07153300d861e6338fc237463f']\n",
      "=> C:\\Users\\Prakhar Singh\\navya\\github\\Data_Science\\.git\\objects\\b6\n",
      "📁 []\n",
      "🗄️ ['2b29e19d4c67e123fd410d480314ea8ed7b2ee']\n",
      "=> C:\\Users\\Prakhar Singh\\navya\\github\\Data_Science\\.git\\objects\\b7\n",
      "📁 []\n",
      "🗄️ ['bf6c6205fea31312167f5c3c3400ad6d245935']\n",
      "=> C:\\Users\\Prakhar Singh\\navya\\github\\Data_Science\\.git\\objects\\b9\n",
      "📁 []\n",
      "🗄️ ['ff107a3829981fe49819ded1bdc561bb63bef6']\n",
      "=> C:\\Users\\Prakhar Singh\\navya\\github\\Data_Science\\.git\\objects\\bb\n",
      "📁 []\n",
      "🗄️ ['940c2bbbf3a5dcb7f123622c7cd206285d11b2', 'd53dbc36da215f2016c41b5d197286ee4c2c4e']\n",
      "=> C:\\Users\\Prakhar Singh\\navya\\github\\Data_Science\\.git\\objects\\c1\n",
      "📁 []\n",
      "🗄️ ['f4589c524180f16128dbb6bb09fc72697e37f1']\n",
      "=> C:\\Users\\Prakhar Singh\\navya\\github\\Data_Science\\.git\\objects\\d4\n",
      "📁 []\n",
      "🗄️ ['e24ac87cecf200f1441fa6a1603e733ba9a98b']\n",
      "=> C:\\Users\\Prakhar Singh\\navya\\github\\Data_Science\\.git\\objects\\d9\n",
      "📁 []\n",
      "🗄️ ['33a086bd92f4dc8692eb7d4d55f7a41a3a620f']\n",
      "=> C:\\Users\\Prakhar Singh\\navya\\github\\Data_Science\\.git\\objects\\db\n",
      "📁 []\n",
      "🗄️ ['7b7f54637928496fa988845e8305a6b247e0d7']\n",
      "=> C:\\Users\\Prakhar Singh\\navya\\github\\Data_Science\\.git\\objects\\df\n",
      "📁 []\n",
      "🗄️ ['5600dbdc744d7fdc68fca26ae0dc7b7fa86988']\n",
      "=> C:\\Users\\Prakhar Singh\\navya\\github\\Data_Science\\.git\\objects\\e4\n",
      "📁 []\n",
      "🗄️ ['c9192b2f5bcbecfa5c57845a6be95e32a49f3a']\n",
      "=> C:\\Users\\Prakhar Singh\\navya\\github\\Data_Science\\.git\\objects\\e6\n",
      "📁 []\n",
      "🗄️ ['9de29bb2d1d6434b8b29ae775ad8c2e48c5391']\n",
      "=> C:\\Users\\Prakhar Singh\\navya\\github\\Data_Science\\.git\\objects\\e7\n",
      "📁 []\n",
      "🗄️ ['3ba612021e4a29a4677929cfaf25a506e99351']\n",
      "=> C:\\Users\\Prakhar Singh\\navya\\github\\Data_Science\\.git\\objects\\ea\n",
      "📁 []\n",
      "🗄️ ['263340211beb1ca8958efb7fff56a4dc5b25a2']\n",
      "=> C:\\Users\\Prakhar Singh\\navya\\github\\Data_Science\\.git\\objects\\f0\n",
      "📁 []\n",
      "🗄️ ['14404b7a8ddfd3b988b66cee8cc5b493c11a3d', '78101d58c402521eabf2a3489d0df1b562d384']\n",
      "=> C:\\Users\\Prakhar Singh\\navya\\github\\Data_Science\\.git\\objects\\fc\n",
      "📁 []\n",
      "🗄️ ['f76bbee5bd07bc7dd6c1f75db33358114215d5']\n",
      "=> C:\\Users\\Prakhar Singh\\navya\\github\\Data_Science\\.git\\objects\\fe\n",
      "📁 []\n",
      "🗄️ ['4f46aecb131f758cfdd6440628927963a8a06d']\n",
      "=> C:\\Users\\Prakhar Singh\\navya\\github\\Data_Science\\.git\\objects\\info\n",
      "📁 []\n",
      "🗄️ []\n",
      "=> C:\\Users\\Prakhar Singh\\navya\\github\\Data_Science\\.git\\objects\\pack\n",
      "📁 []\n",
      "🗄️ ['pack-0201010ed44868cbc09a25a7239cea7348c0b33b.idx', 'pack-0201010ed44868cbc09a25a7239cea7348c0b33b.pack', 'pack-0201010ed44868cbc09a25a7239cea7348c0b33b.rev']\n",
      "=> C:\\Users\\Prakhar Singh\\navya\\github\\Data_Science\\.git\\refs\n",
      "📁 ['heads', 'remotes', 'tags']\n",
      "🗄️ []\n",
      "=> C:\\Users\\Prakhar Singh\\navya\\github\\Data_Science\\.git\\refs\\heads\n",
      "📁 []\n",
      "🗄️ ['main']\n",
      "=> C:\\Users\\Prakhar Singh\\navya\\github\\Data_Science\\.git\\refs\\remotes\n",
      "📁 ['origin']\n",
      "🗄️ []\n",
      "=> C:\\Users\\Prakhar Singh\\navya\\github\\Data_Science\\.git\\refs\\remotes\\origin\n",
      "📁 []\n",
      "🗄️ ['HEAD', 'main']\n",
      "=> C:\\Users\\Prakhar Singh\\navya\\github\\Data_Science\\.git\\refs\\tags\n",
      "📁 []\n",
      "🗄️ []\n",
      "=> C:\\Users\\Prakhar Singh\\navya\\github\\Data_Science\\data_structures\n",
      "📁 []\n",
      "🗄️ ['dictionary.ipynb', 'list.ipynb', 'string.ipynb']\n",
      "=> C:\\Users\\Prakhar Singh\\navya\\github\\Data_Science\\flask\n",
      "📁 ['static', 'templates']\n",
      "🗄️ ['app.py']\n",
      "=> C:\\Users\\Prakhar Singh\\navya\\github\\Data_Science\\flask\\static\n",
      "📁 []\n",
      "🗄️ []\n",
      "=> C:\\Users\\Prakhar Singh\\navya\\github\\Data_Science\\flask\\templates\n",
      "📁 []\n",
      "🗄️ ['about.html', 'index.html', 'login.html', 'register.html']\n",
      "=> C:\\Users\\Prakhar Singh\\navya\\github\\Data_Science\\logical_codes\n",
      "📁 []\n",
      "🗄️ ['armstrong.py', 'fibinacco.py', 'palindrome.py', 'pattern.py', 'prime.py']\n",
      "=> C:\\Users\\Prakhar Singh\\navya\\github\\Data_Science\\practice questions\n",
      "📁 []\n",
      "🗄️ ['list1.ipynb', 'string1.ipynb']\n",
      "total files in directorey tree 117\n"
     ]
    }
   ],
   "source": [
    "total_files=0\n",
    "for path, folders, files, in os.walk(r\"C:\\Users\\Prakhar Singh\\navya\\github\\Data_Science\"):\n",
    "    print('=>',path)\n",
    "    print('📁',folders)\n",
    "    print('🗄️',files)\n",
    "    total_files += len(files)\n",
    "print('total files in directorey tree',total_files)"
   ]
  },
  {
   "cell_type": "code",
   "execution_count": 23,
   "id": "0546125c",
   "metadata": {},
   "outputs": [
    {
     "name": "stdout",
     "output_type": "stream",
     "text": [
      "the file does not exsist\n"
     ]
    }
   ],
   "source": [
    "files= r'D:\\java'\n",
    "if os.path.exists(files):\n",
    "    print('the file exsists')\n",
    "else:\n",
    "    print(\"the file does not exsist\")"
   ]
  },
  {
   "cell_type": "code",
   "execution_count": 24,
   "id": "10683170",
   "metadata": {},
   "outputs": [
    {
     "name": "stdout",
     "output_type": "stream",
     "text": [
      "the file exsists\n"
     ]
    }
   ],
   "source": [
    "files= r'C:\\Users\\Prakhar Singh\\navya\\github\\Data_Science\\logical_codes\\armstrong.py'\n",
    "if os.path.exists(files):\n",
    "    print('the file exsists')\n",
    "else:\n",
    "    print(\"the file does not exsist\")"
   ]
  },
  {
   "cell_type": "code",
   "execution_count": null,
   "id": "c2c78b54",
   "metadata": {},
   "outputs": [],
   "source": []
  }
 ],
 "metadata": {
  "kernelspec": {
   "display_name": "base",
   "language": "python",
   "name": "python3"
  },
  "language_info": {
   "codemirror_mode": {
    "name": "ipython",
    "version": 3
   },
   "file_extension": ".py",
   "mimetype": "text/x-python",
   "name": "python",
   "nbconvert_exporter": "python",
   "pygments_lexer": "ipython3",
   "version": "3.13.2"
  }
 },
 "nbformat": 4,
 "nbformat_minor": 5
}
