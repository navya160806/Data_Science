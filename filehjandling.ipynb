{
 "cells": [
  {
   "cell_type": "markdown",
   "id": "0b53414d",
   "metadata": {},
   "source": [
    "## file handling"
   ]
  },
  {
   "cell_type": "code",
   "execution_count": 1,
   "id": "88a31b8b",
   "metadata": {},
   "outputs": [],
   "source": [
    "import os"
   ]
  },
  {
   "cell_type": "code",
   "execution_count": 2,
   "id": "c84e193b",
   "metadata": {},
   "outputs": [
    {
     "name": "stdout",
     "output_type": "stream",
     "text": [
      "current working dictionary is c:\\Users\\Prakhar Singh\\navya\\github\\Data_Science\n"
     ]
    }
   ],
   "source": [
    "print(\"current working dictionary is\",os.getcwd())"
   ]
  },
  {
   "cell_type": "code",
   "execution_count": 4,
   "id": "c088c5a9",
   "metadata": {},
   "outputs": [
    {
     "name": "stdout",
     "output_type": "stream",
     "text": [
      "files in cureent working directory ['.git', 'assignment1.ipynb', 'basics.ipynb', 'conditions.ipynb', 'datatypes.ipynb', 'data_structures', 'filehjandling.ipynb', 'functions.ipynb', 'functions_qs.ipynb', 'liabraries .ipynb', 'logical_codes', 'loops.ipynb', 'operaters.ipynb', 'practice questions', 'README.md']\n"
     ]
    }
   ],
   "source": [
    "files=os.listdir()\n",
    "print(\"files in cureent working directory\",files)"
   ]
  },
  {
   "cell_type": "code",
   "execution_count": null,
   "id": "3a7a0c09",
   "metadata": {},
   "outputs": [],
   "source": [
    "files=os. "
   ]
  }
 ],
 "metadata": {
  "kernelspec": {
   "display_name": "base",
   "language": "python",
   "name": "python3"
  },
  "language_info": {
   "codemirror_mode": {
    "name": "ipython",
    "version": 3
   },
   "file_extension": ".py",
   "mimetype": "text/x-python",
   "name": "python",
   "nbconvert_exporter": "python",
   "pygments_lexer": "ipython3",
   "version": "3.13.2"
  }
 },
 "nbformat": 4,
 "nbformat_minor": 5
}
