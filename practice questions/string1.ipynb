{
 "cells": [
  {
   "cell_type": "markdown",
   "id": "679af2ce",
   "metadata": {},
   "source": [
    "# STRING"
   ]
  },
  {
   "cell_type": "markdown",
   "id": "4d34f402",
   "metadata": {},
   "source": [
    "### Q1)Create a string and print it."
   ]
  },
  {
   "cell_type": "code",
   "execution_count": null,
   "id": "70e69228",
   "metadata": {},
   "outputs": [
    {
     "name": "stdout",
     "output_type": "stream",
     "text": [
      "hello world\n"
     ]
    }
   ],
   "source": [
    "str=\"hello world\"\n",
    "print(str)"
   ]
  },
  {
   "cell_type": "markdown",
   "id": "2a38e275",
   "metadata": {},
   "source": []
  },
  {
   "cell_type": "markdown",
   "id": "1c3d1998",
   "metadata": {},
   "source": [
    "### Q2)Take a string input and print it's length."
   ]
  },
  {
   "cell_type": "code",
   "execution_count": null,
   "id": "2251f1aa",
   "metadata": {},
   "outputs": [
    {
     "name": "stdout",
     "output_type": "stream",
     "text": [
      "12\n"
     ]
    }
   ],
   "source": [
    "a=input(\"enter a string\")\n",
    "print(len(a))"
   ]
  },
  {
   "cell_type": "markdown",
   "id": "570040a0",
   "metadata": {},
   "source": [
    "### Q3)Print the last word of the string Python is great using slices."
   ]
  },
  {
   "cell_type": "code",
   "execution_count": null,
   "id": "5df3d5f6",
   "metadata": {},
   "outputs": [
    {
     "name": "stdout",
     "output_type": "stream",
     "text": [
      "great\n"
     ]
    }
   ],
   "source": [
    "STR=\"python is great\"\n",
    "print(STR[10:])"
   ]
  },
  {
   "cell_type": "markdown",
   "id": "5ffb5199",
   "metadata": {},
   "source": [
    "### Q4)Print the each word in different line of string python is everywhere."
   ]
  },
  {
   "cell_type": "code",
   "execution_count": null,
   "id": "42529f90",
   "metadata": {},
   "outputs": [
    {
     "name": "stdout",
     "output_type": "stream",
     "text": [
      "python\n",
      "is\n",
      "everywhere\n"
     ]
    }
   ],
   "source": [
    "s=\"python is everywhere\"\n",
    "k=s.split()\n",
    "for i in k :\n",
    "    print(i)\n",
    "\n"
   ]
  },
  {
   "cell_type": "markdown",
   "id": "a0570b29",
   "metadata": {},
   "source": [
    "### Q5)Print the string Hello World! in reverse."
   ]
  },
  {
   "cell_type": "code",
   "execution_count": null,
   "id": "001102e3",
   "metadata": {},
   "outputs": [
    {
     "name": "stdout",
     "output_type": "stream",
     "text": [
      "\n"
     ]
    }
   ],
   "source": [
    "q=\"hello world\""
   ]
  },
  {
   "cell_type": "markdown",
   "id": "4b517c25",
   "metadata": {},
   "source": [
    "### Q6)Convert the string How are you? in uppercase."
   ]
  },
  {
   "cell_type": "code",
   "execution_count": null,
   "id": "9f61bb5b",
   "metadata": {},
   "outputs": [
    {
     "data": {
      "text/plain": [
       "'HOW ARE YOU'"
      ]
     },
     "execution_count": 13,
     "metadata": {},
     "output_type": "execute_result"
    }
   ],
   "source": [
    "Q=\"how are you\"\n",
    "Q.upper()"
   ]
  },
  {
   "cell_type": "markdown",
   "id": "53c40589",
   "metadata": {},
   "source": [
    "### Q7)Convert the string How Is It Going? in lowercase."
   ]
  },
  {
   "cell_type": "code",
   "execution_count": null,
   "id": "871f9bcb",
   "metadata": {},
   "outputs": [
    {
     "data": {
      "text/plain": [
       "'how is it going'"
      ]
     },
     "execution_count": 15,
     "metadata": {},
     "output_type": "execute_result"
    }
   ],
   "source": [
    "Q7=\"How Is It Going\"\n",
    "Q7.lower()"
   ]
  },
  {
   "cell_type": "markdown",
   "id": "08e9fa1a",
   "metadata": {},
   "source": [
    "### Q8)Join the following list by spaces( ) and print the result words = ['Python', 'is', 'easy', 'to', 'learn']"
   ]
  },
  {
   "cell_type": "code",
   "execution_count": null,
   "id": "bcbb60b2",
   "metadata": {},
   "outputs": [
    {
     "name": "stdout",
     "output_type": "stream",
     "text": [
      "python is easy to learn "
     ]
    }
   ],
   "source": [
    "words=['python','is','easy','to','learn']\n",
    "for i in words:\n",
    "    print(i,end=\" \")"
   ]
  },
  {
   "cell_type": "markdown",
   "id": "576d0ec0",
   "metadata": {},
   "source": [
    "### Q9)Print a multiline string using a single print"
   ]
  },
  {
   "cell_type": "code",
   "execution_count": null,
   "id": "35dd1937",
   "metadata": {},
   "outputs": [
    {
     "name": "stdout",
     "output_type": "stream",
     "text": [
      "twinkle twinkle little stars\n",
      "how i wonder what u are \n",
      "up above the world so high \n",
      "like a diamond in the sky\n"
     ]
    }
   ],
   "source": [
    "poem='''twinkle twinkle little stars\n",
    "how i wonder what u are \n",
    "up above the world so high \n",
    "like a diamond in the sky'''\n",
    "print(poem )"
   ]
  },
  {
   "cell_type": "markdown",
   "id": "14da51ca",
   "metadata": {},
   "source": [
    "### Q11)Print a variable with some text using a single print function, output should look like following.\n",
    "##### the variable is 15"
   ]
  },
  {
   "cell_type": "code",
   "execution_count": null,
   "id": "c2da815b",
   "metadata": {},
   "outputs": [
    {
     "name": "stdout",
     "output_type": "stream",
     "text": [
      "the variable is 15\n"
     ]
    }
   ],
   "source": [
    "z=\"the variable is 15\"\n",
    "print(z)"
   ]
  },
  {
   "cell_type": "markdown",
   "id": "b1f3259b",
   "metadata": {},
   "source": [
    "### Q12)concatenate the following strings and print the result\n",
    "s1 = 'python '\n",
    "s2 = 'is '\n",
    "s3 = 'great.'"
   ]
  },
  {
   "cell_type": "code",
   "execution_count": null,
   "id": "78e9efbf",
   "metadata": {},
   "outputs": [
    {
     "name": "stderr",
     "output_type": "stream",
     "text": [
      "<>:4: SyntaxWarning: 'str' object is not callable; perhaps you missed a comma?\n",
      "<>:4: SyntaxWarning: 'str' object is not callable; perhaps you missed a comma?\n",
      "C:\\Users\\Prakhar Singh\\AppData\\Local\\Temp\\ipykernel_18404\\3003218362.py:4: SyntaxWarning: 'str' object is not callable; perhaps you missed a comma?\n",
      "  print(\"s\"(k+1),i)\n"
     ]
    },
    {
     "ename": "TypeError",
     "evalue": "'str' object is not callable",
     "output_type": "error",
     "traceback": [
      "\u001b[31m---------------------------------------------------------------------------\u001b[39m",
      "\u001b[31mTypeError\u001b[39m                                 Traceback (most recent call last)",
      "\u001b[36mCell\u001b[39m\u001b[36m \u001b[39m\u001b[32mIn[27]\u001b[39m\u001b[32m, line 4\u001b[39m\n\u001b[32m      2\u001b[39m k=\u001b[32m0\u001b[39m\n\u001b[32m      3\u001b[39m \u001b[38;5;28;01mfor\u001b[39;00m i \u001b[38;5;129;01min\u001b[39;00m STR:\n\u001b[32m----> \u001b[39m\u001b[32m4\u001b[39m     \u001b[38;5;28mprint\u001b[39m(\u001b[33;43m\"\u001b[39;49m\u001b[33;43ms\u001b[39;49m\u001b[33;43m\"\u001b[39;49m\u001b[43m(\u001b[49m\u001b[43mk\u001b[49m\u001b[43m+\u001b[49m\u001b[32;43m1\u001b[39;49m\u001b[43m)\u001b[49m,i)\n",
      "\u001b[31mTypeError\u001b[39m: 'str' object is not callable"
     ]
    }
   ],
   "source": [
    "STR=\"PYTHON IS GREAT\"\n",
    "k=0\n",
    "for i in STR:\n",
    "    print(\"s\"(k+1),i)"
   ]
  },
  {
   "cell_type": "markdown",
   "id": "c5d82184",
   "metadata": {},
   "source": [
    "### Q13)Print # 20 times without using a loop"
   ]
  },
  {
   "cell_type": "code",
   "execution_count": null,
   "id": "fbf19dd4",
   "metadata": {},
   "outputs": [
    {
     "name": "stdout",
     "output_type": "stream",
     "text": [
      "####################\n"
     ]
    }
   ],
   "source": [
    "W=\"#\"\n",
    "print(W*20)"
   ]
  },
  {
   "cell_type": "markdown",
   "id": "d14b1a10",
   "metadata": {},
   "source": [
    "### Q14)Print numbers from 1 to 9, each on a seperate line, followed by a dot, output should look like the following-\n",
    "1.\n",
    "2.\n",
    "3.\n"
   ]
  },
  {
   "cell_type": "code",
   "execution_count": null,
   "id": "fcd3e582",
   "metadata": {},
   "outputs": [
    {
     "name": "stdout",
     "output_type": "stream",
     "text": [
      "0 .\n",
      "1 .\n",
      "2 .\n",
      "3 .\n",
      "4 .\n",
      "5 .\n",
      "6 .\n",
      "7 .\n",
      "8 .\n",
      "9 .\n",
      "10 .\n"
     ]
    }
   ],
   "source": [
    "for i in range (0,11):\n",
    "    print(i,\".\")"
   ]
  },
  {
   "cell_type": "markdown",
   "id": "3999a146",
   "metadata": {},
   "source": [
    "### Q15)Ask user to input a sentence and print each word on a different line."
   ]
  },
  {
   "cell_type": "code",
   "execution_count": null,
   "id": "95c3d5f6",
   "metadata": {},
   "outputs": [
    {
     "name": "stdout",
     "output_type": "stream",
     "text": [
      "you\n",
      "are\n",
      "a\n",
      "good\n",
      "girl\n"
     ]
    }
   ],
   "source": [
    "input=input(\"entera sentance\")\n",
    "o=input.split()\n",
    "for i in o:\n",
    "    print(i)"
   ]
  },
  {
   "cell_type": "markdown",
   "id": "0bba6d86",
   "metadata": {},
   "source": [
    "### Q16)Ask user to input a string and check if the string ends with '?'"
   ]
  },
  {
   "cell_type": "code",
   "execution_count": null,
   "id": "04d16f36",
   "metadata": {},
   "outputs": [
    {
     "name": "stdout",
     "output_type": "stream",
     "text": [
      "it has a question mark\n"
     ]
    }
   ],
   "source": [
    "sk=input(\"enter a string\")\n",
    "f=sk.split()\n",
    "for i in f:\n",
    "    if i=='?':\n",
    "        print(\"it has a question mark\")\n"
   ]
  },
  {
   "cell_type": "markdown",
   "id": "a2a8c86f",
   "metadata": {},
   "source": [
    "### Q17)Ask user to input a string and print how many times `e` appeared in the string"
   ]
  },
  {
   "cell_type": "code",
   "execution_count": null,
   "id": "573cf14c",
   "metadata": {},
   "outputs": [
    {
     "name": "stdout",
     "output_type": "stream",
     "text": [
      "6\n"
     ]
    }
   ],
   "source": [
    "def new_func():\n",
    "    I=input (\"enter a string\")\n",
    "    z=I.split()\n",
    "    count=0\n",
    "    for i in z :\n",
    "        for j in i :\n",
    "            if i == 'e':\n",
    "                count+=1\n",
    "\n",
    "    print(count)\n",
    "\n",
    "new_func()\n",
    "    \n",
    "\n"
   ]
  },
  {
   "cell_type": "markdown",
   "id": "1a402356",
   "metadata": {},
   "source": [
    "### Q18) Check if the user input is a number"
   ]
  },
  {
   "cell_type": "code",
   "execution_count": null,
   "id": "88378d55",
   "metadata": {},
   "outputs": [],
   "source": [
    "num=[0,1,2,3,4,5,6,7,8,9]\n",
    "kkk=input(\"enter the string\")\n",
    "t=kkk.split()\n",
    "print(t)\n",
    "for i in kkk:\n",
    "    if i in num:\n",
    "        print(i)"
   ]
  },
  {
   "cell_type": "markdown",
   "id": "ae7767cf",
   "metadata": {},
   "source": [
    "### Q19) Remove the extra spaces in beginning and in the end of the following string-"
   ]
  },
  {
   "cell_type": "code",
   "execution_count": null,
   "id": "8544d1cf",
   "metadata": {},
   "outputs": [],
   "source": []
  },
  {
   "cell_type": "markdown",
   "id": "d1e9cc0f",
   "metadata": {},
   "source": []
  },
  {
   "cell_type": "markdown",
   "id": "7574dc7a",
   "metadata": {},
   "source": [
    "### Q20) Ask user to input string, print `found` if any of the character is upper case."
   ]
  },
  {
   "cell_type": "code",
   "execution_count": 3,
   "id": "4b36f6ed",
   "metadata": {},
   "outputs": [
    {
     "name": "stdout",
     "output_type": "stream",
     "text": [
      "no upper case\n"
     ]
    }
   ],
   "source": [
    "aa=input(\"enter a string\")\n",
    "zz=aa.split()\n",
    "for i in zz :\n",
    "    if i==i.isupper():\n",
    "        print(\"the letter is upper\")\n",
    "\n",
    "else:\n",
    "    print(\"no upper case\")"
   ]
  },
  {
   "cell_type": "markdown",
   "id": "46a30762",
   "metadata": {},
   "source": [
    "### Q21)Extract names from the following string and store them in a list.\n",
    "names = 'Joe, David, Mark, Tom, Chris, Robert'"
   ]
  },
  {
   "cell_type": "code",
   "execution_count": 13,
   "id": "b91c3062",
   "metadata": {},
   "outputs": [
    {
     "name": "stdout",
     "output_type": "stream",
     "text": [
      "['Joe,', 'David,', 'Mark,', 'Tom,', 'Chris,', 'Robert']\n"
     ]
    }
   ],
   "source": [
    "names = 'Joe, David, Mark, Tom, Chris, Robert'\n",
    "names_list=[]\n",
    "na=names.split()\n",
    "for i in na :\n",
    "    names_list.append(i)\n",
    "\n",
    "print(names_list)\n"
   ]
  },
  {
   "cell_type": "markdown",
   "id": "428e0aa6",
   "metadata": {},
   "source": [
    "### Q22)In the following string, add aye in the end of every word and print the results.\n",
    "text = 'this is some text'"
   ]
  },
  {
   "cell_type": "code",
   "execution_count": 15,
   "id": "69cb7bde",
   "metadata": {},
   "outputs": [
    {
     "name": "stdout",
     "output_type": "stream",
     "text": [
      "thisaye isaye someaye textaye "
     ]
    }
   ],
   "source": [
    "text = 'this is some text'\n",
    "Q=text.split()\n",
    "for i in Q:\n",
    "    print(i,end=\"aye \")"
   ]
  },
  {
   "cell_type": "code",
   "execution_count": 19,
   "id": "e4486666",
   "metadata": {},
   "outputs": [
    {
     "name": "stdout",
     "output_type": "stream",
     "text": [
      "[4, 7, 8, 9, 6]\n"
     ]
    }
   ],
   "source": [
    "list=[]\n",
    "n=int(input(\"enter numberv of elements you want in  a list\"))\n",
    "for i in range(n):\n",
    "    k = int(input(\"enter the element\"))\n",
    "    list.append(k)\n",
    "print(list)"
   ]
  },
  {
   "cell_type": "code",
   "execution_count": null,
   "id": "9ebfec0a",
   "metadata": {},
   "outputs": [],
   "source": []
  }
 ],
 "metadata": {
  "kernelspec": {
   "display_name": "base",
   "language": "python",
   "name": "python3"
  },
  "language_info": {
   "codemirror_mode": {
    "name": "ipython",
    "version": 3
   },
   "file_extension": ".py",
   "mimetype": "text/x-python",
   "name": "python",
   "nbconvert_exporter": "python",
   "pygments_lexer": "ipython3",
   "version": "3.13.2"
  }
 },
 "nbformat": 4,
 "nbformat_minor": 5
}
