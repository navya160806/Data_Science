{
 "cells": [
  {
   "cell_type": "markdown",
   "id": "5a291b75",
   "metadata": {},
   "source": [
    "# LIST\n"
   ]
  },
  {
   "cell_type": "markdown",
   "id": "cfc6e006",
   "metadata": {},
   "source": [
    "### Q1)Write a program that creates an empty list and then asks the user to input integers to add to the list. Print the final list."
   ]
  },
  {
   "cell_type": "code",
   "execution_count": 2,
   "id": "16771f8f",
   "metadata": {},
   "outputs": [
    {
     "name": "stdout",
     "output_type": "stream",
     "text": [
      "[4, 4, 7, 9, 6]\n"
     ]
    }
   ],
   "source": [
    "list=[]\n",
    "n=int(input(\"enter numberv of elements you want in  a list\"))\n",
    "for i in range(n):\n",
    "    k = int(input(\"enter the element\"))\n",
    "    list.append(k)\n",
    "print(list)"
   ]
  },
  {
   "cell_type": "markdown",
   "id": "6a05878e",
   "metadata": {},
   "source": [
    "### Q2)Write a program that creates a list of integers and then asks the user to input an integer to check if it exists in the list. Print a message indicating whether the integer is in the list or not."
   ]
  },
  {
   "cell_type": "code",
   "execution_count": null,
   "id": "dac0a383",
   "metadata": {},
   "outputs": [
    {
     "name": "stdout",
     "output_type": "stream",
     "text": [
      "it is not included \n"
     ]
    }
   ],
   "source": [
    "list=[1,2,3,4,5,6,7,8,9,10]\n",
    "search=int(input(\"enter a number\"))\n",
    "if search in list:\n",
    "    print(\"it is  included\") \n",
    "else:\n",
    "    print(\"it is not included \")\n",
    "\n",
    "\n"
   ]
  },
  {
   "cell_type": "markdown",
   "id": "0fe502de",
   "metadata": {},
   "source": [
    "### Q3)Write a program that creates a list of strings and then sorts the list alphabetically. Print the sorted list."
   ]
  },
  {
   "cell_type": "code",
   "execution_count": 3,
   "id": "95364c1b",
   "metadata": {},
   "outputs": [
    {
     "ename": "TypeError",
     "evalue": "'int' object is not iterable",
     "output_type": "error",
     "traceback": [
      "\u001b[31m---------------------------------------------------------------------------\u001b[39m",
      "\u001b[31mTypeError\u001b[39m                                 Traceback (most recent call last)",
      "\u001b[36mCell\u001b[39m\u001b[36m \u001b[39m\u001b[32mIn[3]\u001b[39m\u001b[32m, line 3\u001b[39m\n\u001b[32m      1\u001b[39m q=[]\n\u001b[32m      2\u001b[39m kn=\u001b[38;5;28mint\u001b[39m(\u001b[38;5;28minput\u001b[39m(\u001b[33m\"\u001b[39m\u001b[33menter the number of elements you want\u001b[39m\u001b[33m\"\u001b[39m))\n\u001b[32m----> \u001b[39m\u001b[32m3\u001b[39m \u001b[38;5;28;43;01mfor\u001b[39;49;00m\u001b[43m \u001b[49m\u001b[43mi\u001b[49m\u001b[43m \u001b[49m\u001b[38;5;129;43;01min\u001b[39;49;00m\u001b[43m \u001b[49m\u001b[43mkn\u001b[49m\u001b[43m:\u001b[49m\n\u001b[32m      4\u001b[39m \u001b[43m    \u001b[49m\u001b[43mz\u001b[49m\u001b[43m=\u001b[49m\u001b[38;5;28;43minput\u001b[39;49m\u001b[43m(\u001b[49m\u001b[33;43m\"\u001b[39;49m\u001b[33;43menter the element\u001b[39;49m\u001b[33;43m\"\u001b[39;49m\u001b[43m)\u001b[49m\n\u001b[32m      5\u001b[39m \u001b[43m    \u001b[49m\u001b[43mq\u001b[49m\u001b[43m.\u001b[49m\u001b[43mappend\u001b[49m\u001b[43m(\u001b[49m\u001b[43mz\u001b[49m\u001b[43m)\u001b[49m\n",
      "\u001b[31mTypeError\u001b[39m: 'int' object is not iterable"
     ]
    }
   ],
   "source": [
    "q=[]\n",
    "kn=int(input(\"enter the number of elements you want\"))\n",
    "for i in kn:\n",
    "    z=input(\"enter the element\")\n",
    "    q.append(z)\n",
    "    \n",
    "q.sort()\n",
    "print(q)"
   ]
  },
  {
   "cell_type": "markdown",
   "id": "c045f7b5",
   "metadata": {},
   "source": [
    "### Q4)Write a program that creates a list of integers and then finds the maximum value in the list. Print the maximum value"
   ]
  },
  {
   "cell_type": "code",
   "execution_count": 5,
   "id": "fe38444b",
   "metadata": {},
   "outputs": [
    {
     "name": "stdout",
     "output_type": "stream",
     "text": [
      "[4, 4, 7, 9, 6]\n",
      "9\n"
     ]
    }
   ],
   "source": [
    "lists=[]\n",
    "n=int(input(\"enter numberv of elements you want in  a list\"))\n",
    "for i in range(n):\n",
    "    k = int(input(\"enter the element\"))\n",
    "    lists.append(k)\n",
    "print(list)\n",
    "max_value=max(lists)\n",
    "print(max_value)"
   ]
  },
  {
   "cell_type": "markdown",
   "id": "d8a4f975",
   "metadata": {},
   "source": [
    "\n",
    "### Q5)Write a program that creates two lists of integers and then finds the common elements between those two lists. Print the common elements."
   ]
  },
  {
   "cell_type": "code",
   "execution_count": 6,
   "id": "dd17dfe6",
   "metadata": {},
   "outputs": [
    {
     "name": "stdout",
     "output_type": "stream",
     "text": [
      "[7, 9]\n"
     ]
    }
   ],
   "source": [
    "a=[1,3,5,7,8,9]\n",
    "b=[2,4,6,7,9,10]\n",
    "common_elements=[]\n",
    "for i in a :\n",
    "    if i in b:\n",
    "        common_elements.append(i)\n",
    "\n",
    "print(common_elements)\n",
    "\n",
    "\n"
   ]
  },
  {
   "cell_type": "markdown",
   "id": "2f066b44",
   "metadata": {},
   "source": [
    "### Q6)Write a program that creates a list of strings and then removes all elements that contain a specific substring. Print the final list"
   ]
  },
  {
   "cell_type": "code",
   "execution_count": null,
   "id": "119140f1",
   "metadata": {},
   "outputs": [],
   "source": []
  },
  {
   "cell_type": "markdown",
   "id": "33334592",
   "metadata": {},
   "source": [
    "### Q7)Write a program that creates a nested list and then accesses a specific element in the list. Print the accessed element."
   ]
  },
  {
   "cell_type": "markdown",
   "id": "3f73dc11",
   "metadata": {},
   "source": []
  }
 ],
 "metadata": {
  "kernelspec": {
   "display_name": "base",
   "language": "python",
   "name": "python3"
  },
  "language_info": {
   "codemirror_mode": {
    "name": "ipython",
    "version": 3
   },
   "file_extension": ".py",
   "mimetype": "text/x-python",
   "name": "python",
   "nbconvert_exporter": "python",
   "pygments_lexer": "ipython3",
   "version": "3.13.2"
  }
 },
 "nbformat": 4,
 "nbformat_minor": 5
}
