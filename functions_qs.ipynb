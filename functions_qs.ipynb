{
 "cells": [
  {
   "cell_type": "markdown",
   "id": "9a88830d",
   "metadata": {},
   "source": [
    "### QUESTIONS"
   ]
  },
  {
   "cell_type": "markdown",
   "id": "0cbce0e2",
   "metadata": {},
   "source": [
    "### Q1)check a number is a prime or not:"
   ]
  },
  {
   "cell_type": "code",
   "execution_count": 5,
   "id": "e0da9447",
   "metadata": {},
   "outputs": [
    {
     "name": "stdout",
     "output_type": "stream",
     "text": [
      "3 is a prime number\n"
     ]
    }
   ],
   "source": [
    "def prime_no(num):\n",
    "    if num <= 1:\n",
    "        print(f\"{num} is not a prime number\")\n",
    "    else:\n",
    "        for i in range(2,num):\n",
    "            if num % i==0:\n",
    "                print(f\"{num}is not a prime number\")\n",
    "                break\n",
    "        else:\n",
    "            print(f\"{num} is a prime number\")\n",
    "\n",
    "prime_no(3)"
   ]
  },
  {
   "cell_type": "markdown",
   "id": "a605dac6",
   "metadata": {},
   "source": [
    "### Q2)convert temperature from celisus to ferhenit: "
   ]
  },
  {
   "cell_type": "code",
   "execution_count": 11,
   "id": "1ceaebca",
   "metadata": {},
   "outputs": [
    {
     "name": "stdout",
     "output_type": "stream",
     "text": [
      "68.0\n"
     ]
    }
   ],
   "source": [
    "def temperature(temp):\n",
    "    if temp==0:\n",
    "        print(\"it is 32 ferehenit\")\n",
    "    else:\n",
    "        degree = (temp * 9/5) + 32\n",
    "        print(degree)\n",
    "temperature(20)   "
   ]
  },
  {
   "cell_type": "markdown",
   "id": "45e87457",
   "metadata": {},
   "source": [
    "### Q3)find maximum of three numbers:"
   ]
  },
  {
   "cell_type": "code",
   "execution_count": 1,
   "id": "9a19fca9",
   "metadata": {},
   "outputs": [
    {
     "name": "stdout",
     "output_type": "stream",
     "text": [
      "e is greater: 40\n"
     ]
    }
   ],
   "source": [
    "def max3(d, e, f):\n",
    "    if d > e and d > f:\n",
    "        print(\"d is greater:\", d)\n",
    "    elif e > d and e > f:\n",
    "        print(\"e is greater:\", e)\n",
    "    else:\n",
    "        print(\"f is greater:\", f)\n",
    "max3(10, 40, 3)"
   ]
  },
  {
   "cell_type": "markdown",
   "id": "cfe4d920",
   "metadata": {},
   "source": [
    "### Q4)calculate factorial through a function:"
   ]
  },
  {
   "cell_type": "code",
   "execution_count": 7,
   "id": "fd88cacf",
   "metadata": {},
   "outputs": [
    {
     "name": "stdout",
     "output_type": "stream",
     "text": [
      "24\n"
     ]
    }
   ],
   "source": [
    "def factorial(n):\n",
    "    if n < 0:\n",
    "        return \"Factorial is not defined for negative numbers.\"\n",
    "    elif n == 0 or  n == 1:\n",
    "        return 1\n",
    "    else:\n",
    "        factorial = 1\n",
    "        for i in range(1, n + 1):\n",
    "            factorial *= i\n",
    "    print(factorial)\n",
    "\n",
    "factorial(4)"
   ]
  },
  {
   "cell_type": "markdown",
   "id": "96c881a6",
   "metadata": {},
   "source": [
    "### Q5)Reverse of a string through a function:"
   ]
  },
  {
   "cell_type": "code",
   "execution_count": 12,
   "id": "d69ee9fa",
   "metadata": {},
   "outputs": [
    {
     "name": "stdout",
     "output_type": "stream",
     "text": [
      "olleh\n"
     ]
    }
   ],
   "source": [
    "def string_rev(str):\n",
    "    rev = \"\"\n",
    "    for ch in str:\n",
    "        rev = ch + rev\n",
    "    print(rev)\n",
    "\n",
    "string_rev(\"hello\")\n"
   ]
  },
  {
   "cell_type": "markdown",
   "id": "d1f3153b",
   "metadata": {},
   "source": [
    "### Q6)Count vowels in a string through function:"
   ]
  },
  {
   "cell_type": "code",
   "execution_count": 14,
   "id": "e41ef967",
   "metadata": {},
   "outputs": [
    {
     "name": "stdout",
     "output_type": "stream",
     "text": [
      "3\n"
     ]
    }
   ],
   "source": [
    "def vowel(k):\n",
    "    count=0\n",
    "    vow=[\"a\",'e','i','o','u','A','E','I','O','U']\n",
    "    for i in k :\n",
    "        if i in vow:\n",
    "            count=count+1\n",
    "    print(count)\n",
    "\n",
    "vowel(\"apple is \")\n"
   ]
  },
  {
   "cell_type": "markdown",
   "id": "b49945b9",
   "metadata": {},
   "source": [
    "### Q7)Calculate BMI through function:"
   ]
  },
  {
   "cell_type": "code",
   "execution_count": 16,
   "id": "e4d49a02",
   "metadata": {},
   "outputs": [
    {
     "name": "stdout",
     "output_type": "stream",
     "text": [
      "22.857142857142858\n"
     ]
    }
   ],
   "source": [
    "def bmi(wgh,hgt):\n",
    "    bmi=wgh/(hgt)**2\n",
    "    print(bmi)\n",
    "bmi(70,1.75)"
   ]
  }
 ],
 "metadata": {
  "kernelspec": {
   "display_name": "base",
   "language": "python",
   "name": "python3"
  },
  "language_info": {
   "codemirror_mode": {
    "name": "ipython",
    "version": 3
   },
   "file_extension": ".py",
   "mimetype": "text/x-python",
   "name": "python",
   "nbconvert_exporter": "python",
   "pygments_lexer": "ipython3",
   "version": "3.13.2"
  }
 },
 "nbformat": 4,
 "nbformat_minor": 5
}
