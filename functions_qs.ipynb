{
 "cells": [
  {
   "cell_type": "markdown",
   "id": "9a88830d",
   "metadata": {},
   "source": [
    "### QUESTIONS"
   ]
  },
  {
   "cell_type": "markdown",
   "id": "0cbce0e2",
   "metadata": {},
   "source": [
    "### Q1)check a number is a prime or not"
   ]
  },
  {
   "cell_type": "code",
   "execution_count": 5,
   "id": "e0da9447",
   "metadata": {},
   "outputs": [
    {
     "name": "stdout",
     "output_type": "stream",
     "text": [
      "3 is a prime number\n"
     ]
    }
   ],
   "source": [
    "def prime_no(num):\n",
    "    if num <= 1:\n",
    "        print(f\"{num} is not a prime number\")\n",
    "    else:\n",
    "        for i in range(2,num):\n",
    "            if num % i==0:\n",
    "                print(f\"{num}is not a prime number\")\n",
    "                break\n",
    "        else:\n",
    "            print(f\"{num} is a prime number\")\n",
    "\n",
    "prime_no(3)"
   ]
  },
  {
   "cell_type": "markdown",
   "id": "a605dac6",
   "metadata": {},
   "source": [
    "### Q2)convert temperature from celisus to ferhenit "
   ]
  },
  {
   "cell_type": "code",
   "execution_count": 11,
   "id": "1ceaebca",
   "metadata": {},
   "outputs": [
    {
     "name": "stdout",
     "output_type": "stream",
     "text": [
      "68.0\n"
     ]
    }
   ],
   "source": [
    "def temperature(temp):\n",
    "    if temp==0:\n",
    "        print(\"it is 32 ferehenit\")\n",
    "    else:\n",
    "        degree = (temp * 9/5) + 32\n",
    "        print(degree)\n",
    "temperature(20)   "
   ]
  },
  {
   "cell_type": "markdown",
   "id": "45e87457",
   "metadata": {},
   "source": [
    "### Q3)find maximum of three numbers"
   ]
  },
  {
   "cell_type": "code",
   "execution_count": 1,
   "id": "7358cd84",
   "metadata": {},
   "outputs": [],
   "source": [
    "def max3(a,b,c):\n",
    "    if a>b & a>c:\n",
    "        print(\"a is greater\",a)\n",
    "    elif a<b & b>c:\n",
    "        print(\"b is greter \",b)\n",
    "    elif a<b & b<c:\n",
    "        print(\"c is greater\",c)\n",
    "\n",
    "max3(10,0,3)"
   ]
  },
  {
   "cell_type": "markdown",
   "id": "7f06603a",
   "metadata": {},
   "source": []
  },
  {
   "cell_type": "markdown",
   "id": "cfe4d920",
   "metadata": {},
   "source": [
    "### Q4)caluculate factorial"
   ]
  },
  {
   "cell_type": "code",
   "execution_count": null,
   "id": "fd88cacf",
   "metadata": {},
   "outputs": [],
   "source": [
    "def fact(n):\n",
    "    "
   ]
  }
 ],
 "metadata": {
  "kernelspec": {
   "display_name": "base",
   "language": "python",
   "name": "python3"
  },
  "language_info": {
   "codemirror_mode": {
    "name": "ipython",
    "version": 3
   },
   "file_extension": ".py",
   "mimetype": "text/x-python",
   "name": "python",
   "nbconvert_exporter": "python",
   "pygments_lexer": "ipython3",
   "version": "3.13.2"
  }
 },
 "nbformat": 4,
 "nbformat_minor": 5
}
