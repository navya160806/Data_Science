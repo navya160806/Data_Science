{
 "cells": [
  {
   "cell_type": "markdown",
   "id": "d8c2fcc3",
   "metadata": {},
   "source": [
    "# Loops in python "
   ]
  },
  {
   "cell_type": "markdown",
   "id": "f0743aea",
   "metadata": {},
   "source": [
    "## for loop"
   ]
  },
  {
   "cell_type": "code",
   "execution_count": 2,
   "id": "23704674",
   "metadata": {},
   "outputs": [
    {
     "name": "stdout",
     "output_type": "stream",
     "text": [
      "apple banana cherry date elderberry "
     ]
    }
   ],
   "source": [
    "fruits=['apple','banana','cherry','date','elderberry']\n",
    "for i in fruits:\n",
    "    print(i,end=\" \")\n"
   ]
  },
  {
   "cell_type": "markdown",
   "id": "6acd7f0c",
   "metadata": {},
   "source": [
    "#### range function"
   ]
  },
  {
   "cell_type": "code",
   "execution_count": 3,
   "id": "8f3c78ef",
   "metadata": {},
   "outputs": [
    {
     "name": "stdout",
     "output_type": "stream",
     "text": [
      "0\n",
      "1\n",
      "2\n",
      "3\n",
      "4\n",
      "5\n"
     ]
    }
   ],
   "source": [
    "for i in range(6):\n",
    "    print(i)"
   ]
  },
  {
   "cell_type": "code",
   "execution_count": 4,
   "id": "b7cd94bc",
   "metadata": {},
   "outputs": [
    {
     "name": "stdout",
     "output_type": "stream",
     "text": [
      "2\n",
      "4\n",
      "6\n",
      "8\n"
     ]
    }
   ],
   "source": [
    "for i in range(2,10,2):\n",
    "    print(i)"
   ]
  },
  {
   "cell_type": "markdown",
   "id": "4aa1744a",
   "metadata": {},
   "source": [
    "### Q1)print your name 10 times "
   ]
  },
  {
   "cell_type": "code",
   "execution_count": 1,
   "id": "29d59a79",
   "metadata": {},
   "outputs": [
    {
     "name": "stdout",
     "output_type": "stream",
     "text": [
      "navya singh\n",
      "navya singh\n",
      "navya singh\n",
      "navya singh\n",
      "navya singh\n",
      "navya singh\n",
      "navya singh\n",
      "navya singh\n",
      "navya singh\n",
      "navya singh\n",
      "navya singh\n"
     ]
    }
   ],
   "source": [
    "name =\"navya singh\"\n",
    "for i in range(11):\n",
    "    print(name)\n"
   ]
  },
  {
   "cell_type": "markdown",
   "id": "9255f3e0",
   "metadata": {},
   "source": [
    "### Q2) print the even numbers from 0 to 20"
   ]
  },
  {
   "cell_type": "code",
   "execution_count": 7,
   "id": "3a952609",
   "metadata": {},
   "outputs": [
    {
     "name": "stdout",
     "output_type": "stream",
     "text": [
      "0\n",
      "2\n",
      "4\n",
      "6\n",
      "8\n",
      "10\n",
      "12\n",
      "14\n",
      "16\n",
      "18\n",
      "20\n"
     ]
    }
   ],
   "source": [
    "for i in range(0,21,2):\n",
    "    print(i)"
   ]
  },
  {
   "cell_type": "markdown",
   "id": "6f713176",
   "metadata": {},
   "source": [
    "### Q3) print odd numbers with conditions "
   ]
  },
  {
   "cell_type": "code",
   "execution_count": 8,
   "id": "2ee52390",
   "metadata": {},
   "outputs": [
    {
     "name": "stdout",
     "output_type": "stream",
     "text": [
      "1\n",
      "3\n",
      "5\n",
      "7\n",
      "9\n",
      "11\n",
      "13\n",
      "15\n",
      "17\n",
      "19\n"
     ]
    }
   ],
   "source": [
    "for i in range(0,20):\n",
    "    if (i%2!=0):\n",
    "        print(i)"
   ]
  },
  {
   "cell_type": "markdown",
   "id": "2f7e9b18",
   "metadata": {},
   "source": [
    "## while loop"
   ]
  },
  {
   "cell_type": "code",
   "execution_count": 9,
   "id": "2d82bd51",
   "metadata": {},
   "outputs": [
    {
     "name": "stdout",
     "output_type": "stream",
     "text": [
      "0\n",
      "1\n",
      "2\n",
      "3\n",
      "4\n",
      "5\n",
      "6\n",
      "7\n",
      "8\n",
      "9\n",
      "10\n"
     ]
    }
   ],
   "source": [
    "i=0\n",
    "while i<=10:\n",
    "    print(i)\n",
    "    i+=1"
   ]
  },
  {
   "cell_type": "code",
   "execution_count": 1,
   "id": "035489e2",
   "metadata": {},
   "outputs": [
    {
     "name": "stdout",
     "output_type": "stream",
     "text": [
      "0\n",
      "2\n",
      "4\n",
      "6\n",
      "8\n",
      "10\n"
     ]
    }
   ],
   "source": [
    "i=0\n",
    "while i<=10:\n",
    "    print(i)\n",
    "    i=i+2"
   ]
  },
  {
   "cell_type": "markdown",
   "id": "b2cef998",
   "metadata": {},
   "source": [
    "### Q1) print your name ten times "
   ]
  },
  {
   "cell_type": "code",
   "execution_count": 1,
   "id": "4e6f0500",
   "metadata": {},
   "outputs": [
    {
     "name": "stdout",
     "output_type": "stream",
     "text": [
      "navya singh\n",
      "navya singh\n",
      "navya singh\n",
      "navya singh\n",
      "navya singh\n",
      "navya singh\n",
      "navya singh\n",
      "navya singh\n",
      "navya singh\n",
      "navya singh\n",
      "navya singh\n"
     ]
    }
   ],
   "source": [
    "i=0\n",
    "while i<=10:\n",
    "    print(\"navya singh\")\n",
    "    i+=1"
   ]
  },
  {
   "cell_type": "markdown",
   "id": "1dc6e253",
   "metadata": {},
   "source": [
    "### Q2)print the even numbers from o-20"
   ]
  },
  {
   "cell_type": "code",
   "execution_count": 3,
   "id": "9469dd24",
   "metadata": {},
   "outputs": [
    {
     "name": "stdout",
     "output_type": "stream",
     "text": [
      "0\n",
      "2\n",
      "4\n",
      "6\n",
      "8\n",
      "10\n",
      "12\n",
      "14\n",
      "16\n",
      "18\n",
      "20\n"
     ]
    }
   ],
   "source": [
    "i=0\n",
    "while i<=20:\n",
    "    if(i%2==0):\n",
    "        print(i)\n",
    "    i+=1"
   ]
  },
  {
   "cell_type": "code",
   "execution_count": 10,
   "id": "a0ecd3ec",
   "metadata": {},
   "outputs": [
    {
     "name": "stdout",
     "output_type": "stream",
     "text": [
      "0\n",
      "2\n",
      "4\n",
      "6\n",
      "8\n",
      "10\n",
      "12\n",
      "14\n",
      "16\n",
      "18\n",
      "20\n"
     ]
    }
   ],
   "source": [
    "i=0\n",
    "while i<=20:\n",
    "    print(i)\n",
    "    i=i+2"
   ]
  },
  {
   "cell_type": "markdown",
   "id": "03992116",
   "metadata": {},
   "source": [
    "### Q3)print the odd bnumbers from 0-20"
   ]
  },
  {
   "cell_type": "code",
   "execution_count": 4,
   "id": "de2e6590",
   "metadata": {},
   "outputs": [
    {
     "name": "stdout",
     "output_type": "stream",
     "text": [
      "1\n",
      "3\n",
      "5\n",
      "7\n",
      "9\n",
      "11\n",
      "13\n",
      "15\n",
      "17\n",
      "19\n"
     ]
    }
   ],
   "source": [
    "i=0\n",
    "while i<=20:\n",
    "    if (i%2!=0):\n",
    "        print(i)\n",
    "    i+=1"
   ]
  },
  {
   "cell_type": "markdown",
   "id": "4124c726",
   "metadata": {},
   "source": [
    "### break and continue "
   ]
  },
  {
   "cell_type": "code",
   "execution_count": 1,
   "id": "96dbe323",
   "metadata": {},
   "outputs": [
    {
     "name": "stdout",
     "output_type": "stream",
     "text": [
      "apple\n",
      "banana\n",
      "cherry\n",
      "date\n",
      "elderberry\n"
     ]
    }
   ],
   "source": [
    "fruits=['apple','banana','cherry','date','elderberry','onion','banana','kiwi','apple']\n",
    "for i in  fruits:\n",
    "    if i =='onion':\n",
    "        break\n",
    "    print(i)"
   ]
  },
  {
   "cell_type": "code",
   "execution_count": 2,
   "id": "b9a1939f",
   "metadata": {},
   "outputs": [
    {
     "name": "stdout",
     "output_type": "stream",
     "text": [
      "apple\n",
      "banana\n",
      "cherry\n",
      "date\n",
      "elderberry\n",
      "banana\n",
      "kiwi\n",
      "apple\n"
     ]
    }
   ],
   "source": [
    "fruits=['apple','banana','cherry','date','elderberry','onion','banana','kiwi','apple']\n",
    "for i in  fruits:\n",
    "    if i =='onion':\n",
    "        continue\n",
    "    print(i)"
   ]
  },
  {
   "cell_type": "code",
   "execution_count": 1,
   "id": "eff610aa",
   "metadata": {},
   "outputs": [
    {
     "name": "stdout",
     "output_type": "stream",
     "text": [
      "0\n",
      "1\n",
      "2\n",
      "3\n",
      "4\n"
     ]
    }
   ],
   "source": [
    "for i in range(10):\n",
    "    if i == 5:\n",
    "        break\n",
    "    print(i)\n"
   ]
  },
  {
   "cell_type": "code",
   "execution_count": 2,
   "id": "c154090e",
   "metadata": {},
   "outputs": [
    {
     "name": "stdout",
     "output_type": "stream",
     "text": [
      "0\n",
      "1\n",
      "3\n",
      "4\n"
     ]
    }
   ],
   "source": [
    "for i in range(5):\n",
    "    if i == 2:\n",
    "        continue\n",
    "    print(i)\n"
   ]
  },
  {
   "cell_type": "code",
   "execution_count": null,
   "id": "862d76f4",
   "metadata": {},
   "outputs": [],
   "source": []
  }
 ],
 "metadata": {
  "kernelspec": {
   "display_name": "base",
   "language": "python",
   "name": "python3"
  },
  "language_info": {
   "codemirror_mode": {
    "name": "ipython",
    "version": 3
   },
   "file_extension": ".py",
   "mimetype": "text/x-python",
   "name": "python",
   "nbconvert_exporter": "python",
   "pygments_lexer": "ipython3",
   "version": "3.13.2"
  }
 },
 "nbformat": 4,
 "nbformat_minor": 5
}
