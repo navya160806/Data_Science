{
 "cells": [
  {
   "cell_type": "markdown",
   "id": "ad835bd1",
   "metadata": {},
   "source": [
    "# liabraries "
   ]
  },
  {
   "cell_type": "code",
   "execution_count": 1,
   "id": "4d99673c",
   "metadata": {},
   "outputs": [],
   "source": [
    "import math"
   ]
  },
  {
   "cell_type": "code",
   "execution_count": 4,
   "id": "947bb60d",
   "metadata": {},
   "outputs": [
    {
     "name": "stdout",
     "output_type": "stream",
     "text": [
      "120\n",
      "1\n",
      "12\n",
      "0.0\n"
     ]
    }
   ],
   "source": [
    "print(math.factorial(5))\n",
    "print(math.gcd(2,5,7))\n",
    "print(math.lcm(2,4,6))\n",
    "print(math.tan(0))"
   ]
  },
  {
   "cell_type": "code",
   "execution_count": 5,
   "id": "f2e79c9f",
   "metadata": {},
   "outputs": [],
   "source": [
    "from random import random, randint, choice ,shuffle"
   ]
  },
  {
   "cell_type": "code",
   "execution_count": null,
   "id": "ddbed922",
   "metadata": {},
   "outputs": [
    {
     "ename": "AttributeError",
     "evalue": "'builtin_function_or_method' object has no attribute 'random'",
     "output_type": "error",
     "traceback": [
      "\u001b[31m---------------------------------------------------------------------------\u001b[39m",
      "\u001b[31mAttributeError\u001b[39m                            Traceback (most recent call last)",
      "\u001b[36mCell\u001b[39m\u001b[36m \u001b[39m\u001b[32mIn[10]\u001b[39m\u001b[32m, line 1\u001b[39m\n\u001b[32m----> \u001b[39m\u001b[32m1\u001b[39m \u001b[38;5;28mprint\u001b[39m(\u001b[33m\"\u001b[39m\u001b[33mgive number between 0 and 1 \u001b[39m\u001b[33m\"\u001b[39m,\u001b[43mrandom\u001b[49m\u001b[43m.\u001b[49m\u001b[43mrandom\u001b[49m())\n\u001b[32m      2\u001b[39m \u001b[38;5;28mprint\u001b[39m(\u001b[33m\"\u001b[39m\u001b[33mgive number between 2 and 8\u001b[39m\u001b[33m\"\u001b[39m,random.randint(\u001b[32m2\u001b[39m,\u001b[32m8\u001b[39m))\n",
      "\u001b[31mAttributeError\u001b[39m: 'builtin_function_or_method' object has no attribute 'random'"
     ]
    }
   ],
   "source": [
    "print(\"give number between 0 and 1 \",random.random())\n",
    "print(\"give number between 2 and 8\",random.randint(2,8))"
   ]
  },
  {
   "cell_type": "code",
   "execution_count": 11,
   "id": "00822a25",
   "metadata": {},
   "outputs": [],
   "source": [
    "from datetime import datetime as dt\n"
   ]
  },
  {
   "cell_type": "code",
   "execution_count": 12,
   "id": "9cd8b9e2",
   "metadata": {},
   "outputs": [
    {
     "name": "stdout",
     "output_type": "stream",
     "text": [
      "current date and time  2025-07-05 18:08:42.844208\n"
     ]
    }
   ],
   "source": [
    "print(\"current date and time \",dt.now())"
   ]
  },
  {
   "cell_type": "code",
   "execution_count": 15,
   "id": "21c503af",
   "metadata": {},
   "outputs": [
    {
     "name": "stdout",
     "output_type": "stream",
     "text": [
      "current date 2025-07-05\n",
      "current time : 18:14:01.930584\n"
     ]
    }
   ],
   "source": [
    "print(\"current date\",dt.now().date())\n",
    "print(\"current time :\", dt.now().time())"
   ]
  },
  {
   "cell_type": "code",
   "execution_count": 18,
   "id": "2d36a4fa",
   "metadata": {},
   "outputs": [
    {
     "name": "stdout",
     "output_type": "stream",
     "text": [
      "current year: 2025\n",
      "current month : 7\n",
      "current date : 5\n",
      "current hour: 18\n",
      "current minute 21\n",
      "current second 13\n",
      "current weekday 5\n"
     ]
    }
   ],
   "source": [
    "print(\"current year:\",dt.now().year)\n",
    "print(\"current month :\",dt.now().month)\n",
    "print(\"current date :\",dt.now().day)\n",
    "print(\"current hour:\",dt.now().hour)\n",
    "print(\"current minute\",dt.now().minute)\n",
    "print(\"current second\",dt.now().second)\n",
    "print(\"current weekday\",dt.now().weekday())"
   ]
  },
  {
   "cell_type": "code",
   "execution_count": 21,
   "id": "702cb2da",
   "metadata": {},
   "outputs": [
    {
     "name": "stdout",
     "output_type": "stream",
     "text": [
      "05/07/25\n"
     ]
    }
   ],
   "source": [
    "date=dt.strftime(dt.now(),\"%d/%m/%y\")\n",
    "print(date)"
   ]
  },
  {
   "cell_type": "code",
   "execution_count": 22,
   "id": "1e71370f",
   "metadata": {},
   "outputs": [
    {
     "ename": "ValueError",
     "evalue": "Invalid format string",
     "output_type": "error",
     "traceback": [
      "\u001b[31m---------------------------------------------------------------------------\u001b[39m",
      "\u001b[31mValueError\u001b[39m                                Traceback (most recent call last)",
      "\u001b[36mCell\u001b[39m\u001b[36m \u001b[39m\u001b[32mIn[22]\u001b[39m\u001b[32m, line 1\u001b[39m\n\u001b[32m----> \u001b[39m\u001b[32m1\u001b[39m time=\u001b[43mdt\u001b[49m\u001b[43m.\u001b[49m\u001b[43mstrftime\u001b[49m\u001b[43m(\u001b[49m\u001b[43mdt\u001b[49m\u001b[43m.\u001b[49m\u001b[43mnow\u001b[49m\u001b[43m(\u001b[49m\u001b[43m)\u001b[49m\u001b[43m,\u001b[49m\u001b[33;43m\"\u001b[39;49m\u001b[33;43m%\u001b[39;49m\u001b[33;43mh:\u001b[39;49m\u001b[33;43m%\u001b[39;49m\u001b[33;43mm:\u001b[39;49m\u001b[38;5;132;43;01m%s\u001b[39;49;00m\u001b[33;43m\"\u001b[39;49m\u001b[43m)\u001b[49m\n\u001b[32m      2\u001b[39m \u001b[38;5;28mprint\u001b[39m(time)\n",
      "\u001b[31mValueError\u001b[39m: Invalid format string"
     ]
    }
   ],
   "source": [
    "time=dt.strftime(dt.now(),\"%h:%m:%s\")\n",
    "print(time)"
   ]
  },
  {
   "cell_type": "code",
   "execution_count": null,
   "id": "be973a33",
   "metadata": {},
   "outputs": [],
   "source": []
  }
 ],
 "metadata": {
  "kernelspec": {
   "display_name": "base",
   "language": "python",
   "name": "python3"
  },
  "language_info": {
   "codemirror_mode": {
    "name": "ipython",
    "version": 3
   },
   "file_extension": ".py",
   "mimetype": "text/x-python",
   "name": "python",
   "nbconvert_exporter": "python",
   "pygments_lexer": "ipython3",
   "version": "3.13.2"
  }
 },
 "nbformat": 4,
 "nbformat_minor": 5
}
