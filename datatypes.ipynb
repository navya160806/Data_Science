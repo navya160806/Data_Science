{
 "cells": [
  {
   "cell_type": "markdown",
   "id": "42c63be1",
   "metadata": {},
   "source": [
    "# datatypes "
   ]
  },
  {
   "cell_type": "markdown",
   "id": "38085359",
   "metadata": {},
   "source": [
    "list\n"
   ]
  },
  {
   "cell_type": "code",
   "execution_count": 1,
   "id": "0f401d06",
   "metadata": {},
   "outputs": [
    {
     "name": "stdout",
     "output_type": "stream",
     "text": [
      "['apple', 'cherry', 'mango']\n"
     ]
    }
   ],
   "source": [
    "list=[\"apple\",\"cherry\",\"mango\"]\n",
    "print(list)"
   ]
  },
  {
   "cell_type": "markdown",
   "id": "1f2da4f7",
   "metadata": {},
   "source": [
    "tuple"
   ]
  },
  {
   "cell_type": "code",
   "execution_count": 12,
   "id": "6190a113",
   "metadata": {},
   "outputs": [
    {
     "name": "stdout",
     "output_type": "stream",
     "text": [
      "('apple', 'cherry', 'mango')\n"
     ]
    }
   ],
   "source": [
    "tuple=(\"apple\",\"cherry\",\"mango\")\n",
    "print(tuple)"
   ]
  },
  {
   "cell_type": "markdown",
   "id": "34ae887c",
   "metadata": {},
   "source": [
    "set"
   ]
  },
  {
   "cell_type": "code",
   "execution_count": 7,
   "id": "d52a5230",
   "metadata": {},
   "outputs": [
    {
     "name": "stdout",
     "output_type": "stream",
     "text": [
      "{'apple', 'mango', 'cherry'}\n"
     ]
    }
   ],
   "source": [
    "set={\"apple\",\"mango\",\"cherry\",\"mango\",\"apple\"}\n",
    "print(set)"
   ]
  },
  {
   "cell_type": "markdown",
   "id": "598e5ae5",
   "metadata": {},
   "source": [
    "dictionary"
   ]
  },
  {
   "cell_type": "code",
   "execution_count": 9,
   "id": "30eb8204",
   "metadata": {},
   "outputs": [
    {
     "name": "stdout",
     "output_type": "stream",
     "text": [
      "{'name': 'navya', 'marks': 99, 'class': 'BCA', 'age': 18}\n"
     ]
    }
   ],
   "source": [
    "dic={'name':'navya',\n",
    "     'marks':99,\n",
    "     'class':'BCA',\n",
    "     'age':18}\n",
    "print(dic)"
   ]
  },
  {
   "cell_type": "markdown",
   "id": "e3f8fa5e",
   "metadata": {},
   "source": [
    "### how to find datatype "
   ]
  },
  {
   "cell_type": "code",
   "execution_count": 14,
   "id": "30c6a327",
   "metadata": {},
   "outputs": [
    {
     "data": {
      "text/plain": [
       "dict"
      ]
     },
     "execution_count": 14,
     "metadata": {},
     "output_type": "execute_result"
    }
   ],
   "source": [
    "type(dic)"
   ]
  },
  {
   "cell_type": "markdown",
   "id": "68f80e13",
   "metadata": {},
   "source": [
    "type casting"
   ]
  },
  {
   "cell_type": "code",
   "execution_count": 15,
   "id": "569f3d9b",
   "metadata": {},
   "outputs": [
    {
     "name": "stdout",
     "output_type": "stream",
     "text": [
      "5\n"
     ]
    },
    {
     "data": {
      "text/plain": [
       "str"
      ]
     },
     "execution_count": 15,
     "metadata": {},
     "output_type": "execute_result"
    }
   ],
   "source": [
    "b=5\n",
    "c=str(b)\n",
    "print(c)\n",
    "type(c)"
   ]
  },
  {
   "cell_type": "code",
   "execution_count": null,
   "id": "09c05c29",
   "metadata": {},
   "outputs": [],
   "source": [
    "a=int(input(\"enter a number:\"))\n",
    "b=int(input(\"enter  number2\"))\n",
    "print(a+b)\n",
    "type(a)"
   ]
  }
 ],
 "metadata": {
  "kernelspec": {
   "display_name": "base",
   "language": "python",
   "name": "python3"
  },
  "language_info": {
   "codemirror_mode": {
    "name": "ipython",
    "version": 3
   },
   "file_extension": ".py",
   "mimetype": "text/x-python",
   "name": "python",
   "nbconvert_exporter": "python",
   "pygments_lexer": "ipython3",
   "version": "3.13.2"
  }
 },
 "nbformat": 4,
 "nbformat_minor": 5
}
