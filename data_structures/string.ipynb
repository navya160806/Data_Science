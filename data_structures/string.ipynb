{
 "cells": [
  {
   "cell_type": "markdown",
   "id": "78db1dcb",
   "metadata": {},
   "source": [
    "# STRING "
   ]
  },
  {
   "cell_type": "code",
   "execution_count": 1,
   "id": "b10a6d77",
   "metadata": {},
   "outputs": [
    {
     "name": "stdout",
     "output_type": "stream",
     "text": [
      "my name is navya\n"
     ]
    }
   ],
   "source": [
    "string=\"my name is navya\"\n",
    "print(string)"
   ]
  },
  {
   "cell_type": "code",
   "execution_count": 2,
   "id": "04dd8ab9",
   "metadata": {},
   "outputs": [
    {
     "name": "stdout",
     "output_type": "stream",
     "text": [
      "my name is navya"
     ]
    }
   ],
   "source": [
    "for i in string :\n",
    "    print (i,end='')"
   ]
  },
  {
   "cell_type": "code",
   "execution_count": null,
   "id": "4cbd9bd7",
   "metadata": {},
   "outputs": [
    {
     "name": "stdout",
     "output_type": "stream",
     "text": [
      "Hello my name is navya "
     ]
    }
   ],
   "source": [
    "s = \"Hello my name is navya \"\n",
    "i = 0\n",
    "while i < len(s):\n",
    "    print(s[i], end='')  \n",
    "    i += 1\n"
   ]
  },
  {
   "cell_type": "code",
   "execution_count": 5,
   "id": "2cc1c189",
   "metadata": {},
   "outputs": [
    {
     "name": "stdout",
     "output_type": "stream",
     "text": [
      "s\n"
     ]
    }
   ],
   "source": [
    "print(string[9])"
   ]
  },
  {
   "cell_type": "code",
   "execution_count": 6,
   "id": "6a48a231",
   "metadata": {},
   "outputs": [
    {
     "name": "stdout",
     "output_type": "stream",
     "text": [
      "s navya\n"
     ]
    }
   ],
   "source": [
    "print(string[9:])\n"
   ]
  },
  {
   "cell_type": "code",
   "execution_count": 13,
   "id": "0698b2cd",
   "metadata": {},
   "outputs": [
    {
     "name": "stdout",
     "output_type": "stream",
     "text": [
      "2030\n"
     ]
    }
   ],
   "source": [
    "A=\"20\"\n",
    "B='30'\n",
    "print(A+B)\n",
    "\n"
   ]
  },
  {
   "cell_type": "code",
   "execution_count": 14,
   "id": "b7fe8213",
   "metadata": {},
   "outputs": [
    {
     "data": {
      "text/plain": [
       "'BEAUTIFUL'"
      ]
     },
     "execution_count": 14,
     "metadata": {},
     "output_type": "execute_result"
    }
   ],
   "source": [
    "word=\"beautiful\"\n",
    "word.upper()"
   ]
  },
  {
   "cell_type": "code",
   "execution_count": 15,
   "id": "84db272a",
   "metadata": {},
   "outputs": [
    {
     "data": {
      "text/plain": [
       "'beautiful'"
      ]
     },
     "execution_count": 15,
     "metadata": {},
     "output_type": "execute_result"
    }
   ],
   "source": [
    "words='BEAUTIFUL'\n",
    "words.lower()"
   ]
  },
  {
   "cell_type": "code",
   "execution_count": 16,
   "id": "89d40252",
   "metadata": {},
   "outputs": [
    {
     "data": {
      "text/plain": [
       "'Beautiful'"
      ]
     },
     "execution_count": 16,
     "metadata": {},
     "output_type": "execute_result"
    }
   ],
   "source": [
    "word.capitalize()"
   ]
  },
  {
   "cell_type": "code",
   "execution_count": 20,
   "id": "ff3169d9",
   "metadata": {},
   "outputs": [
    {
     "name": "stdout",
     "output_type": "stream",
     "text": [
      " jhony jhony yes papa\n",
      "eating sugar no papa \n",
      "telling lie no papa\n",
      "open your mouth hahaha\n"
     ]
    }
   ],
   "source": [
    "poem=''' jhony jhony yes papa\n",
    "eating sugar no papa \n",
    "telling lie no papa\n",
    "open your mouth hahaha'''\n",
    "print(poem)"
   ]
  },
  {
   "cell_type": "code",
   "execution_count": 21,
   "id": "a29a51ab",
   "metadata": {},
   "outputs": [
    {
     "data": {
      "text/plain": [
       "17"
      ]
     },
     "execution_count": 21,
     "metadata": {},
     "output_type": "execute_result"
    }
   ],
   "source": [
    "poem.find(\"papa\")"
   ]
  },
  {
   "cell_type": "code",
   "execution_count": 22,
   "id": "cbd15b5d",
   "metadata": {},
   "outputs": [
    {
     "name": "stdout",
     "output_type": "stream",
     "text": [
      " jhony jhony yes dad\n",
      "eating sugar no dad \n",
      "telling lie no dad\n",
      "open your mouth hahaha\n"
     ]
    }
   ],
   "source": [
    "p=poem.replace('papa','dad')\n",
    "print(p)"
   ]
  },
  {
   "cell_type": "code",
   "execution_count": null,
   "id": "0f8736d3",
   "metadata": {},
   "outputs": [],
   "source": [
    "p=poem.\n",
    "i = 0\n",
    "while i < len(s):\n",
    "    print(s[i], end='')  \n",
    "    i += 1"
   ]
  },
  {
   "cell_type": "code",
   "execution_count": 24,
   "id": "0c204458",
   "metadata": {},
   "outputs": [
    {
     "name": "stdout",
     "output_type": "stream",
     "text": [
      " jhony jhony yes papa\n",
      "eating sweets yes papa \n",
      "telling truth yes papa\n",
      "open your mouth hahaha\n"
     ]
    }
   ],
   "source": [
    "p=poem.replace(\"sugar\",\"sweets\").replace(\"lie\",\"truth\").replace(\"no\",\"yes\")\n",
    "print(p)"
   ]
  },
  {
   "cell_type": "code",
   "execution_count": 25,
   "id": "5617041b",
   "metadata": {},
   "outputs": [
    {
     "data": {
      "text/plain": [
       "['my', 'name', 'is', 'navya']"
      ]
     },
     "execution_count": 25,
     "metadata": {},
     "output_type": "execute_result"
    }
   ],
   "source": [
    "string.split()"
   ]
  },
  {
   "cell_type": "code",
   "execution_count": 26,
   "id": "256f35f2",
   "metadata": {},
   "outputs": [
    {
     "data": {
      "text/plain": [
       "[' jhony jhony yes papa',\n",
       " 'eating sweets yes papa ',\n",
       " 'telling truth yes papa',\n",
       " 'open your mouth hahaha']"
      ]
     },
     "execution_count": 26,
     "metadata": {},
     "output_type": "execute_result"
    }
   ],
   "source": [
    "p.splitlines()"
   ]
  },
  {
   "cell_type": "code",
   "execution_count": 33,
   "id": "8ba2156f",
   "metadata": {},
   "outputs": [
    {
     "name": "stdout",
     "output_type": "stream",
     "text": [
      " jhony jhony yes papa\n",
      "eating sugar no papa \n",
      "telling lie no papa\n",
      "open your mouth hahaha\n"
     ]
    }
   ],
   "source": [
    "p=poem.splitlines()\n",
    "i = 0\n",
    "while i < len(p):\n",
    "    print(p[i])  \n",
    "    i += 1"
   ]
  },
  {
   "cell_type": "code",
   "execution_count": null,
   "id": "a06980b5",
   "metadata": {},
   "outputs": [],
   "source": [
    "q=[]\n",
    "kn=int(input(\"enter the number of elements you want\"))\n",
    "for i in kn:\n",
    "    z=input(\"enter the element\")\n",
    "    q.append(z)\n",
    "    \n",
    "q.sort()\n",
    "print(q)\n"
   ]
  },
  {
   "cell_type": "code",
   "execution_count": null,
   "id": "949cd20c",
   "metadata": {},
   "outputs": [],
   "source": []
  }
 ],
 "metadata": {
  "kernelspec": {
   "display_name": "base",
   "language": "python",
   "name": "python3"
  },
  "language_info": {
   "codemirror_mode": {
    "name": "ipython",
    "version": 3
   },
   "file_extension": ".py",
   "mimetype": "text/x-python",
   "name": "python",
   "nbconvert_exporter": "python",
   "pygments_lexer": "ipython3",
   "version": "3.13.2"
  }
 },
 "nbformat": 4,
 "nbformat_minor": 5
}
