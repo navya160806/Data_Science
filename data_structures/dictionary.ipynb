{
 "cells": [
  {
   "cell_type": "markdown",
   "id": "89538e2a",
   "metadata": {},
   "source": [
    "# Dictionary"
   ]
  },
  {
   "cell_type": "code",
   "execution_count": 2,
   "id": "0e4d1204",
   "metadata": {},
   "outputs": [
    {
     "name": "stdout",
     "output_type": "stream",
     "text": [
      "{'name': 'navya', 'class': '12th', 'marks': 90}\n"
     ]
    }
   ],
   "source": [
    "dict={'name':'navya',\n",
    "'class':'12th',\n",
    "'marks':90}\n",
    "print(dict)"
   ]
  },
  {
   "cell_type": "code",
   "execution_count": 2,
   "id": "3919c9af",
   "metadata": {},
   "outputs": [
    {
     "name": "stdout",
     "output_type": "stream",
     "text": [
      "{'name': 'navya', 'age': 20, 'marks': 90}\n"
     ]
    }
   ],
   "source": [
    "info = dict(name='navya',age = int(input(\"enter age\")), marks =90)\n",
    "print(info)"
   ]
  },
  {
   "cell_type": "code",
   "execution_count": 6,
   "id": "14a1075e",
   "metadata": {},
   "outputs": [
    {
     "data": {
      "text/plain": [
       "dict_keys(['name', 'class', 'marks'])"
      ]
     },
     "execution_count": 6,
     "metadata": {},
     "output_type": "execute_result"
    }
   ],
   "source": [
    "dict.keys()"
   ]
  },
  {
   "cell_type": "code",
   "execution_count": 9,
   "id": "e27519e9",
   "metadata": {},
   "outputs": [
    {
     "name": "stdout",
     "output_type": "stream",
     "text": [
      "{'lucknow': [30, 35, 40], 'delhi': [20, 30, 40], 'chennai': [10, 24, 35]}\n"
     ]
    }
   ],
   "source": [
    "temp={\n",
    "    'lucknow': [30,35,40],\n",
    "    'delhi':   [20,30,40],\n",
    "    'chennai': [10,24,35]\n",
    "}\n",
    "print(temp)"
   ]
  },
  {
   "cell_type": "code",
   "execution_count": null,
   "id": "9e880a4e",
   "metadata": {},
   "outputs": [
    {
     "data": {
      "text/plain": [
       "[30, 35, 40]"
      ]
     },
     "execution_count": 10,
     "metadata": {},
     "output_type": "execute_result"
    }
   ],
   "source": [
    "#to access the key in dictionary\n",
    "temp['lucknow']"
   ]
  },
  {
   "cell_type": "code",
   "execution_count": 11,
   "id": "b9223ed8",
   "metadata": {},
   "outputs": [
    {
     "data": {
      "text/plain": [
       "[30, 35, 40]"
      ]
     },
     "execution_count": 11,
     "metadata": {},
     "output_type": "execute_result"
    }
   ],
   "source": [
    "#2nd methofd to acess the key in dictionary\n",
    "temp.get(\"lucknow\")"
   ]
  },
  {
   "cell_type": "code",
   "execution_count": 12,
   "id": "32628653",
   "metadata": {},
   "outputs": [],
   "source": [
    "#adding new key and value pair\n",
    "temp[\"mumbai\"]=[23,67,78]"
   ]
  },
  {
   "cell_type": "code",
   "execution_count": 13,
   "id": "771d8287",
   "metadata": {},
   "outputs": [
    {
     "name": "stdout",
     "output_type": "stream",
     "text": [
      "{'lucknow': [30, 35, 40], 'delhi': [20, 30, 40], 'chennai': [10, 24, 35], 'mumbai': [23, 67, 78]}\n"
     ]
    }
   ],
   "source": [
    "print(temp)"
   ]
  },
  {
   "cell_type": "code",
   "execution_count": null,
   "id": "8e0f4d4d",
   "metadata": {},
   "outputs": [],
   "source": [
    "print(sum)"
   ]
  }
 ],
 "metadata": {
  "kernelspec": {
   "display_name": "base",
   "language": "python",
   "name": "python3"
  },
  "language_info": {
   "codemirror_mode": {
    "name": "ipython",
    "version": 3
   },
   "file_extension": ".py",
   "mimetype": "text/x-python",
   "name": "python",
   "nbconvert_exporter": "python",
   "pygments_lexer": "ipython3",
   "version": "3.13.2"
  }
 },
 "nbformat": 4,
 "nbformat_minor": 5
}
