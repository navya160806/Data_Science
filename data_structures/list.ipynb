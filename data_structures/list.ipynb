{
 "cells": [
  {
   "cell_type": "markdown",
   "id": "f93586d3",
   "metadata": {},
   "source": [
    "## list"
   ]
  },
  {
   "cell_type": "code",
   "execution_count": 5,
   "id": "b39caa53",
   "metadata": {},
   "outputs": [
    {
     "name": "stdout",
     "output_type": "stream",
     "text": [
      "['whatsapp', 'intsa', 'snap', 'netflix', 'amazon', 'gaana', 'tiktok', 'youtube', 'google maps', 'zomato', 'swiggy', 'ola', 'uber']\n"
     ]
    }
   ],
   "source": [
    "app = ['whatsapp','intsa','snap','netflix','amazon','gaana','tiktok','youtube','google maps','zomato','swiggy','ola','uber']\n",
    "print(app)"
   ]
  },
  {
   "cell_type": "markdown",
   "id": "dbe3d48b",
   "metadata": {},
   "source": [
    "### indexing \n",
    "    "
   ]
  },
  {
   "cell_type": "markdown",
   "id": "c1f51791",
   "metadata": {},
   "source": [
    "#### +ve indexing"
   ]
  },
  {
   "cell_type": "code",
   "execution_count": 6,
   "id": "31b1d7de",
   "metadata": {},
   "outputs": [
    {
     "name": "stdout",
     "output_type": "stream",
     "text": [
      "amazon\n",
      "tiktok\n"
     ]
    }
   ],
   "source": [
    "print(app[4])\n",
    "print(app[6])"
   ]
  },
  {
   "cell_type": "markdown",
   "id": "c6088d25",
   "metadata": {},
   "source": [
    "#### -ve indexing"
   ]
  },
  {
   "cell_type": "code",
   "execution_count": 7,
   "id": "e0e10b04",
   "metadata": {},
   "outputs": [
    {
     "name": "stdout",
     "output_type": "stream",
     "text": [
      "google maps\n",
      "tiktok\n"
     ]
    }
   ],
   "source": [
    "print(app[-5])\n",
    "print(app[-7])"
   ]
  },
  {
   "cell_type": "markdown",
   "id": "259c4ba9",
   "metadata": {},
   "source": [
    "## slicing"
   ]
  },
  {
   "cell_type": "code",
   "execution_count": 8,
   "id": "3330ff77",
   "metadata": {},
   "outputs": [
    {
     "name": "stdout",
     "output_type": "stream",
     "text": [
      "['intsa', 'snap', 'netflix', 'amazon']\n"
     ]
    }
   ],
   "source": [
    "print(app[1:5])"
   ]
  },
  {
   "cell_type": "code",
   "execution_count": 15,
   "id": "48a4714a",
   "metadata": {},
   "outputs": [
    {
     "name": "stdout",
     "output_type": "stream",
     "text": [
      "['netflix', 'amazon', 'gaana', 'tiktok', 'youtube']\n"
     ]
    }
   ],
   "source": [
    "print(app[-10:-5])"
   ]
  },
  {
   "cell_type": "code",
   "execution_count": 13,
   "id": "32195c1f",
   "metadata": {},
   "outputs": [
    {
     "name": "stdout",
     "output_type": "stream",
     "text": [
      "['intsa', 'netflix', 'gaana', 'youtube', 'zomato', 'ola']\n"
     ]
    }
   ],
   "source": [
    "print(app[1:-1:2])"
   ]
  },
  {
   "cell_type": "markdown",
   "id": "facb3a29",
   "metadata": {},
   "source": [
    "## list methods\n",
    "- append()-to add item at the end of the list\n",
    "- insert()-to add item to the list\n",
    "- pop()-to delete item using its index value\n",
    "- remove()-to delete items using item name \n",
    "- copy()-to make duplicate of the list\n",
    "- sort()-to sort a list in a particular order\n",
    "- extend()-to combine two list into a single list \n",
    "- clear()-to delete all the items from the list but not the list"
   ]
  },
  {
   "cell_type": "code",
   "execution_count": 16,
   "id": "2f666e34",
   "metadata": {},
   "outputs": [
    {
     "name": "stdout",
     "output_type": "stream",
     "text": [
      "['whatsapp', 'intsa', 'snap', 'netflix', 'amazon', 'gaana', 'tiktok', 'youtube', 'google maps', 'zomato', 'swiggy', 'ola', 'uber', 'netflix']\n"
     ]
    }
   ],
   "source": [
    "app.append(\"netflix\")\n",
    "print(app)"
   ]
  },
  {
   "cell_type": "code",
   "execution_count": 17,
   "id": "c448bd6e",
   "metadata": {},
   "outputs": [
    {
     "name": "stdout",
     "output_type": "stream",
     "text": [
      "['whatsapp', 'intsa', 'snap', 'rapido', 'netflix', 'amazon', 'gaana', 'tiktok', 'youtube', 'google maps', 'zomato', 'swiggy', 'ola', 'uber', 'netflix']\n"
     ]
    }
   ],
   "source": [
    "app.insert(3,'rapido')\n",
    "print(app)"
   ]
  },
  {
   "cell_type": "code",
   "execution_count": 18,
   "id": "6d95439f",
   "metadata": {},
   "outputs": [
    {
     "name": "stdout",
     "output_type": "stream",
     "text": [
      "['whatsapp', 'intsa', 'rapido', 'netflix', 'amazon', 'gaana', 'tiktok', 'youtube', 'google maps', 'zomato', 'swiggy', 'ola', 'uber', 'netflix']\n"
     ]
    }
   ],
   "source": [
    "app.pop(2)\n",
    "print(app)"
   ]
  },
  {
   "cell_type": "code",
   "execution_count": 19,
   "id": "5fa1aefe",
   "metadata": {},
   "outputs": [
    {
     "name": "stdout",
     "output_type": "stream",
     "text": [
      "['whatsapp', 'intsa', 'rapido', 'amazon', 'gaana', 'tiktok', 'youtube', 'google maps', 'zomato', 'swiggy', 'ola', 'uber', 'netflix']\n"
     ]
    }
   ],
   "source": [
    "app.remove(\"netflix\")\n",
    "print(app)"
   ]
  },
  {
   "cell_type": "code",
   "execution_count": 20,
   "id": "36f35efa",
   "metadata": {},
   "outputs": [
    {
     "name": "stdout",
     "output_type": "stream",
     "text": [
      "['whatsapp', 'intsa', 'rapido', 'amazon', 'gaana', 'tiktok', 'youtube', 'google maps', 'zomato', 'swiggy', 'ola', 'uber', 'netflix']\n"
     ]
    }
   ],
   "source": [
    "copy_apps = app.copy()\n",
    "print(copy_apps)"
   ]
  },
  {
   "cell_type": "code",
   "execution_count": 22,
   "id": "c51327de",
   "metadata": {},
   "outputs": [
    {
     "name": "stdout",
     "output_type": "stream",
     "text": [
      "[]\n"
     ]
    }
   ],
   "source": [
    "copy_apps.clear()\n",
    "print(copy_apps)"
   ]
  },
  {
   "cell_type": "code",
   "execution_count": 23,
   "id": "0efda5f7",
   "metadata": {},
   "outputs": [
    {
     "name": "stdout",
     "output_type": "stream",
     "text": [
      "['amazon', 'gaana', 'google maps', 'intsa', 'netflix', 'ola', 'rapido', 'swiggy', 'tiktok', 'uber', 'whatsapp', 'youtube', 'zomato']\n"
     ]
    }
   ],
   "source": [
    "app.sort()\n",
    "print(app)"
   ]
  },
  {
   "cell_type": "code",
   "execution_count": 24,
   "id": "ad2d3271",
   "metadata": {},
   "outputs": [
    {
     "name": "stdout",
     "output_type": "stream",
     "text": [
      "['amazon', 'gaana', 'google maps', 'intsa', 'netflix', 'ola', 'rapido', 'swiggy', 'tiktok', 'uber', 'whatsapp', 'youtube', 'zomato', 'twitter', 'facebook']\n"
     ]
    }
   ],
   "source": [
    "app2=(\"twitter\",\"facebook\")\n",
    "app.extend(app2)\n",
    "print(app)"
   ]
  },
  {
   "cell_type": "code",
   "execution_count": null,
   "id": "9d021a03",
   "metadata": {},
   "outputs": [],
   "source": []
  }
 ],
 "metadata": {
  "kernelspec": {
   "display_name": "base",
   "language": "python",
   "name": "python3"
  },
  "language_info": {
   "codemirror_mode": {
    "name": "ipython",
    "version": 3
   },
   "file_extension": ".py",
   "mimetype": "text/x-python",
   "name": "python",
   "nbconvert_exporter": "python",
   "pygments_lexer": "ipython3",
   "version": "3.13.2"
  }
 },
 "nbformat": 4,
 "nbformat_minor": 5
}
