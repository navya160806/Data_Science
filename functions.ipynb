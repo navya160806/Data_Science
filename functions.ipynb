{
 "cells": [
  {
   "cell_type": "markdown",
   "id": "bbdb3c70",
   "metadata": {},
   "source": [
    "# functions "
   ]
  },
  {
   "cell_type": "markdown",
   "id": "c975dafd",
   "metadata": {},
   "source": [
    "### - user defined functions\n",
    "   - parameterised functions \n",
    "   - non parameterised functions \n",
    "   - return function\n",
    "   - non return functions \n",
    "   -  default paratemerised functions \n",
    "   - lambda functions\n",
    "### - built in functions "
   ]
  },
  {
   "cell_type": "markdown",
   "id": "ea0e19d2",
   "metadata": {},
   "source": []
  },
  {
   "cell_type": "code",
   "execution_count": 4,
   "id": "44c3a75c",
   "metadata": {},
   "outputs": [],
   "source": [
    "def great():# functions initilisation\n",
    "    print(\"hello\")\n",
    "    print(\"how are you\")\n",
    "    print(\"i am good thankyou\")"
   ]
  },
  {
   "cell_type": "code",
   "execution_count": 5,
   "id": "6a66b566",
   "metadata": {},
   "outputs": [
    {
     "name": "stdout",
     "output_type": "stream",
     "text": [
      "hello\n",
      "how are you\n",
      "i am good thankyou\n"
     ]
    }
   ],
   "source": [
    "great() #function calling"
   ]
  },
  {
   "cell_type": "code",
   "execution_count": null,
   "id": "e709b5d3",
   "metadata": {},
   "outputs": [],
   "source": [
    "def sum():\n",
    "    print(a+b)\n"
   ]
  },
  {
   "cell_type": "code",
   "execution_count": 7,
   "id": "54452a80",
   "metadata": {},
   "outputs": [
    {
     "name": "stdout",
     "output_type": "stream",
     "text": [
      "not\n"
     ]
    }
   ],
   "source": [
    "def age(age):\n",
    "    if age>=18:\n",
    "        print(\"eligible\")\n",
    "    else:\n",
    "        print(\"not\")\n",
    "\n",
    "age(12)"
   ]
  },
  {
   "cell_type": "code",
   "execution_count": 9,
   "id": "4d1b5018",
   "metadata": {},
   "outputs": [
    {
     "name": "stdout",
     "output_type": "stream",
     "text": [
      "4.0\n"
     ]
    }
   ],
   "source": [
    "def avg(a,b,c,d):\n",
    "    z=(a+b+c+d)/4\n",
    "    print(z)\n",
    "avg(1,4,5,6)"
   ]
  },
  {
   "cell_type": "code",
   "execution_count": 11,
   "id": "fdfa48e8",
   "metadata": {},
   "outputs": [
    {
     "name": "stdout",
     "output_type": "stream",
     "text": [
      "10\n"
     ]
    }
   ],
   "source": [
    "def avg(a,b,c,d):\n",
    "    return a+b+c+d\n",
    "average =avg(1,2,3,4)\n",
    "print(average)"
   ]
  },
  {
   "cell_type": "code",
   "execution_count": 16,
   "id": "f4fa826d",
   "metadata": {},
   "outputs": [
    {
     "name": "stdout",
     "output_type": "stream",
     "text": [
      "i love USA\n",
      "i love india\n",
      "i love australia\n"
     ]
    }
   ],
   "source": [
    "def myCountrey(countrey):\n",
    "    return f\"i love {countrey}\"\n",
    "\n",
    "print(myCountrey(\"USA\"))\n",
    "print(myCountrey(\"india\"))\n",
    "print(myCountrey(\"australia\"))\n",
    "\n"
   ]
  },
  {
   "cell_type": "code",
   "execution_count": 18,
   "id": "02c753ca",
   "metadata": {},
   "outputs": [
    {
     "data": {
      "text/plain": [
       "256"
      ]
     },
     "execution_count": 18,
     "metadata": {},
     "output_type": "execute_result"
    }
   ],
   "source": [
    "# lambda \n",
    "def square(a):\n",
    "    return a**a\n",
    "square(4)"
   ]
  },
  {
   "cell_type": "code",
   "execution_count": 19,
   "id": "7245295d",
   "metadata": {},
   "outputs": [
    {
     "name": "stdout",
     "output_type": "stream",
     "text": [
      "27\n"
     ]
    }
   ],
   "source": [
    "sqaure=lambda a :a*a\n",
    "print(square(3))"
   ]
  },
  {
   "cell_type": "code",
   "execution_count": 20,
   "id": "c56f549b",
   "metadata": {},
   "outputs": [
    {
     "name": "stdout",
     "output_type": "stream",
     "text": [
      "even \n"
     ]
    }
   ],
   "source": [
    "def evenodd(number):\n",
    "    if number%2==0:\n",
    "        print(\"even \")\n",
    "    else :\n",
    "        print(odd)\n",
    "evenodd(4)"
   ]
  },
  {
   "cell_type": "code",
   "execution_count": null,
   "id": "f6d2061d",
   "metadata": {},
   "outputs": [],
   "source": []
  }
 ],
 "metadata": {
  "kernelspec": {
   "display_name": "base",
   "language": "python",
   "name": "python3"
  },
  "language_info": {
   "codemirror_mode": {
    "name": "ipython",
    "version": 3
   },
   "file_extension": ".py",
   "mimetype": "text/x-python",
   "name": "python",
   "nbconvert_exporter": "python",
   "pygments_lexer": "ipython3",
   "version": "3.13.2"
  }
 },
 "nbformat": 4,
 "nbformat_minor": 5
}
